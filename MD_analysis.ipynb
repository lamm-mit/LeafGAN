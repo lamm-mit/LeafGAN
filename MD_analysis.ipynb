{
 "cells": [
  {
   "cell_type": "code",
   "execution_count": 1,
   "id": "b3a19308",
   "metadata": {},
   "outputs": [],
   "source": [
    "import os\n",
    "import numpy as np\n",
    "import pandas as pd\n",
    "import matplotlib.pyplot as plt\n",
    "import scipy.stats\n",
    "import cv2"
   ]
  },
  {
   "cell_type": "code",
   "execution_count": 3,
   "id": "c931b92d",
   "metadata": {},
   "outputs": [],
   "source": [
    "def plot_stress_strain(strain, stress, i):\n",
    "    fig, ax = plt.subplots()\n",
    "\n",
    "    ax.plot(strain, stress, linewidth=2.0)\n",
    "\n",
    "    ax.set_xlabel('Strain')\n",
    "    ax.set_ylabel('Stress (GPa)')\n",
    "    \n",
    "    #fig.savefig(f'./stress_strain_plots/{i}.png')\n",
    "    fig.savefig(f'C:/Users/sabri/Desktop/LAMM/leaf_stylegan/GA/stress_strain_GA/stress_strain_{i}.png')\n",
    "    \n",
    "    plt.close()"
   ]
  },
  {
   "cell_type": "code",
   "execution_count": 4,
   "id": "b917b7ea",
   "metadata": {},
   "outputs": [],
   "source": [
    "def find_modulus(strain, stress,i):\n",
    "\n",
    "    strain_index=np.where(strain>0.02)[0][0]\n",
    "    strain_linreg=strain[0:strain_index]\n",
    "    stress_linreg=pxx[0:strain_index]\n",
    "\n",
    "    slope, intercept, r_value, p_value, std_err = scipy.stats.linregress(strain_linreg, stress_linreg)\n",
    "    if r_value**2>0.998:\n",
    "        return r_value**2, slope\n",
    "    else:\n",
    "            strain_index=np.where(strain>0.01)[0][0]\n",
    "            strain_linreg=strain[0:strain_index]\n",
    "            stress_linreg=pxx[0:strain_index]\n",
    "\n",
    "            slope, intercept, r_value, p_value, std_err = scipy.stats.linregress(strain_linreg, stress_linreg)\n",
    "            if r_value**2>0.99:\n",
    "                return r_value**2, slope\n",
    "            else:\n",
    "                strain_index=np.where(strain>0.005)[0][0]\n",
    "                strain_linreg=strain[0:strain_index]\n",
    "                stress_linreg=pxx[0:strain_index]\n",
    "\n",
    "                slope, intercept, r_value, p_value, std_err = scipy.stats.linregress(strain_linreg, stress_linreg)\n",
    "                if r_value**2>0.945:\n",
    "                    return r_value**2, slope\n",
    "                else:\n",
    "                    #print(f'Modulus for {i} not found')\n",
    "                    return r_value**2,0\n",
    "\n"
   ]
  },
  {
   "cell_type": "code",
   "execution_count": 5,
   "id": "0eb3853e",
   "metadata": {},
   "outputs": [],
   "source": [
    "#filename = 'C:/Users/sabri/Desktop/LAMM/leaf_stylegan/MD/fix_deform_test_100.def1 (6).txt'\n",
    "filename = 'C:/Users/sabri/Desktop/LAMM/leaf_stylegan/MD/standard/stress_strain_solid.txt'\n",
    "#filename = 'C:/Users/sabri/Desktop/LAMM/leaf_stylegan/MD/stress_strain/stress_strain_1.txt'\n",
    "data = np.loadtxt(filename, skiprows=1, dtype='float')\n",
    "strain=np.array(-data[:,0])\n",
    "pxx=np.array(-data[:,1])\n",
    "pyy=np.array(-data[:,2])\n",
    "pzz=np.array(-data[:,3])\n",
    "r2, slope=find_modulus(strain, pxx,0)"
   ]
  },
  {
   "cell_type": "code",
   "execution_count": 176,
   "id": "39643896",
   "metadata": {},
   "outputs": [
    {
     "data": {
      "image/png": "[encoded data removed]",
      "text/plain": [
       "<Figure size 432x288 with 1 Axes>"
      ]
     },
     "metadata": {
      "needs_background": "light"
     },
     "output_type": "display_data"
    }
   ],
   "source": [
    "fig, ax = plt.subplots()\n",
    "\n",
    "ax.plot(strain, pxx, linewidth=2.0)\n",
    "\n",
    "ax.set_xlabel('Strain')\n",
    "ax.set_ylabel('Stress (GPa)')\n",
    "    \n",
    "plt.show()\n",
    "    \n",
    "plt.close()"
   ]
  },
  {
   "cell_type": "code",
   "execution_count": 123,
   "id": "7f5afae5",
   "metadata": {},
   "outputs": [],
   "source": [
    "#Actual modulus\n",
    "\n",
    "strain_index=np.where(strain>0.005)[0][0]\n",
    "strain_linreg=strain[0:strain_index]\n",
    "stress_linreg=pxx[0:strain_index]\n",
    "\n",
    "#slope, intercept, r_value, p_value, std_err = scipy.stats.linregress(strain_linreg, stress_linreg)"
   ]
  },
  {
   "cell_type": "code",
   "execution_count": 127,
   "id": "1fa6b1db",
   "metadata": {},
   "outputs": [
    {
     "data": {
      "image/png": "[encoded data removed]",
      "text/plain": [
       "<Figure size 432x288 with 1 Axes>"
      ]
     },
     "metadata": {
      "needs_background": "light"
     },
     "output_type": "display_data"
    }
   ],
   "source": [
    "fig, ax = plt.subplots()\n",
    "\n",
    "ax.plot(strain_linreg, stress_linreg, linewidth=2.0)\n",
    "\n",
    "ax.set_xlabel('Strain')\n",
    "ax.set_ylabel('Stress (GPa)')\n",
    "    \n",
    "plt.show()\n",
    "    \n",
    "plt.close()"
   ]
  },
  {
   "cell_type": "code",
   "execution_count": 136,
   "id": "24cf2668",
   "metadata": {},
   "outputs": [],
   "source": [
    "modulus_0=[]\n",
    "faulty_0=[]\n",
    "folder='rw_cnn'\n",
    "for i in range(100):\n",
    "    if os.path.isfile(f'C:/Users/sabri/Desktop/LAMM/leaf_stylegan/GA/stress_strain_{folder}/stress_strain_{i}.txt'):\n",
    "        filename=f'C:/Users/sabri/Desktop/LAMM/leaf_stylegan/GA/stress_strain_{folder}/stress_strain_{i}.txt'\n",
    "        data = np.loadtxt(filename, skiprows=1, dtype='float')\n",
    "        strain=-data[:,0]\n",
    "        pxx=-data[:,1]\n",
    "        pyy=-data[:,2]\n",
    "        pzz=-data[:,3]\n",
    "        plot_stress_strain(strain, pxx, i)\n",
    "        r2,mod=find_modulus(strain, pxx, i)\n",
    "        modulus_0.append([i,mod,r2])\n",
    "        if mod==0:\n",
    "            faulty_0.append([i,r2])\n",
    "    else:\n",
    "        modulus_0.append([i,0,0])\n",
    "        faulty_0.append([i,0])\n",
    "            \n",
    "mod0=np.asarray(modulus_0)\n",
    "faulty0=np.asarray(faulty_0)"
   ]
  },
  {
   "cell_type": "code",
   "execution_count": 237,
   "id": "93390ecd",
   "metadata": {},
   "outputs": [
    {
     "ename": "TypeError",
     "evalue": "ufunc 'true_divide' not supported for the input types, and the inputs could not be safely coerced to any supported types according to the casting rule ''safe''",
     "output_type": "error",
     "traceback": [
      "\u001b[1;31m---------------------------------------------------------------------------\u001b[0m",
      "\u001b[1;31mTypeError\u001b[0m                                 Traceback (most recent call last)",
      "\u001b[1;32m~\\AppData\\Local\\Temp/ipykernel_10584/2673230469.py\u001b[0m in \u001b[0;36m<module>\u001b[1;34m\u001b[0m\n\u001b[1;32m----> 1\u001b[1;33m \u001b[0mnormalized_mod\u001b[0m\u001b[1;33m=\u001b[0m\u001b[0mmod0\u001b[0m\u001b[1;33m[\u001b[0m\u001b[1;33m:\u001b[0m\u001b[1;33m,\u001b[0m\u001b[1;36m1\u001b[0m\u001b[1;33m]\u001b[0m\u001b[1;33m/\u001b[0m\u001b[0mslope\u001b[0m\u001b[1;33m\u001b[0m\u001b[1;33m\u001b[0m\u001b[0m\n\u001b[0m",
      "\u001b[1;31mTypeError\u001b[0m: ufunc 'true_divide' not supported for the input types, and the inputs could not be safely coerced to any supported types according to the casting rule ''safe''"
     ]
    }
   ],
   "source": [
    "normalized_mod=mod0[:,1]/slope"
   ]
  },
  {
   "cell_type": "code",
   "execution_count": 142,
   "id": "252a301f",
   "metadata": {},
   "outputs": [
    {
     "data": {
      "text/plain": [
       "array([ 0.99007995,  0.96774711,  0.99329802,  0.96953025,  0.94196881,\n",
       "        0.90888411,  0.95420891,  0.9839182 ,  0.98139877,  0.96662246,\n",
       "        0.99029939,  0.95579642,  0.99032949,  0.6524802 ,  0.96953025,\n",
       "        0.97653901,  0.99175298,  0.96729843,  0.95927407,  0.98040645,\n",
       "        0.90057813,  0.96583388,  1.06334353,  0.99487889,  0.90057813,\n",
       "        0.90888411,  0.99741487,  1.04050199,  0.9839182 ,  0.9986992 ,\n",
       "        0.91382136,  0.94733494,  0.9704875 ,  0.99487889,  1.00827722,\n",
       "        0.94196881,  1.        ,  1.00145112,  0.9464795 ,  0.9704875 ,\n",
       "        0.9562818 ,  1.        ,  1.        ,  1.        ,  0.99741487,\n",
       "        1.04050199,  0.99181499,  0.8593711 ,  0.9649553 ,  0.96239523,\n",
       "        0.11282303,  0.07802297,  0.12477497,  0.21495915,  0.23929875,\n",
       "        0.09840144,  0.03636936,  0.11512896,  0.06373255,  0.37192965,\n",
       "        0.46925969,  0.5042041 ,  0.14921861,  0.1244497 ,  0.5806569 ,\n",
       "        0.1415053 ,  0.21208496,  0.1272123 ,  0.1272123 ,  0.04551391,\n",
       "        0.13588201,  0.32787948,  0.27224529,  0.53764819,  0.15213792,\n",
       "        0.41905793,  0.24059708,  0.10642849,  0.15470739,  0.09127763,\n",
       "        0.15213792,  0.13429376,  0.08487237,  0.28819706,  0.15192799,\n",
       "        0.11699912,  0.05617746,  0.09751512,  0.10184082,  0.17868987,\n",
       "        0.11160964,  0.11169637,  0.08620518,  0.35776058, -0.0223798 ,\n",
       "        0.21337987, -0.0223798 ,  0.19584378,  0.2693129 ,  0.20443299])"
      ]
     },
     "execution_count": 142,
     "metadata": {},
     "output_type": "execute_result"
    }
   ],
   "source": [
    "normalized_mod"
   ]
  },
  {
   "cell_type": "code",
   "execution_count": 143,
   "id": "feff6d94",
   "metadata": {},
   "outputs": [],
   "source": [
    "density=[]\n",
    "path1=f'C:/Users/sabri/Desktop/LAMM/leaf_stylegan/GA/img_{folder}/top_mod/'\n",
    "for file in os.listdir(f'C:/Users/sabri/Desktop/LAMM/leaf_stylegan/GA/img_{folder}/top_mod/'):\n",
    "    img=cv2.imread(path1+file, cv2.IMREAD_UNCHANGED)\n",
    "    density.append(cv2.countNonZero(img)/(256*256))\n",
    "\n",
    "path2=f'C:/Users/sabri/Desktop/LAMM/leaf_stylegan/GA/img_{folder}/top_pop/'\n",
    "for file in os.listdir(f'C:/Users/sabri/Desktop/LAMM/leaf_stylegan/GA/img_{folder}/top_pop/'):\n",
    "    img=cv2.imread(path2+file, cv2.IMREAD_UNCHANGED)\n",
    "    density.append(cv2.countNonZero(img)/(256*256))"
   ]
  },
  {
   "cell_type": "code",
   "execution_count": 140,
   "id": "d74d5acb",
   "metadata": {},
   "outputs": [],
   "source": [
    "data=pd.concat([pd.DataFrame(density, columns=['Density']), pd.DataFrame(normalized_mod, columns=['Normalized Modulus'])], axis=1)\n",
    "#data.to_csv('C:/Users/sabri/Desktop/LAMM/leaf_stylegan/GA/mod_mod.csv', index=False)"
   ]
  },
  {
   "cell_type": "code",
   "execution_count": 141,
   "id": "d52d8fec",
   "metadata": {},
   "outputs": [],
   "source": [
    "data.to_csv(f'C:/Users/sabri/Desktop/LAMM/leaf_stylegan/GA/mod_{folder}.csv')#, index=False)"
   ]
  },
  {
   "cell_type": "code",
   "execution_count": null,
   "id": "795d0251",
   "metadata": {},
   "outputs": [],
   "source": []
  },
  {
   "cell_type": "code",
   "execution_count": null,
   "id": "5c07eb71",
   "metadata": {},
   "outputs": [],
   "source": [
    "#####SCRATCH WORK BELOW#######"
   ]
  },
  {
   "cell_type": "code",
   "execution_count": 158,
   "id": "ef272341",
   "metadata": {},
   "outputs": [],
   "source": [
    "file=np.asarray(os.listdir(f'C:/Users/sabri/Desktop/LAMM/leaf_stylegan/GA/img_{folder}/top_mod/'))"
   ]
  },
  {
   "cell_type": "code",
   "execution_count": 154,
   "id": "3a310cde",
   "metadata": {},
   "outputs": [
    {
     "data": {
      "text/plain": [
       "1.0"
      ]
     },
     "execution_count": 154,
     "metadata": {},
     "output_type": "execute_result"
    }
   ],
   "source": [
    "mod/slope"
   ]
  },
  {
   "cell_type": "code",
   "execution_count": 134,
   "id": "4f4d0ed6",
   "metadata": {},
   "outputs": [],
   "source": [
    "path='C:/Users/sabri/Desktop/LAMM/leaf_stylegan/GA/img_rw_cnn/top_mod/36.png'"
   ]
  },
  {
   "cell_type": "code",
   "execution_count": 135,
   "id": "c0bb38b3",
   "metadata": {},
   "outputs": [
    {
     "data": {
      "text/plain": [
       "0.99041748046875"
      ]
     },
     "execution_count": 135,
     "metadata": {},
     "output_type": "execute_result"
    }
   ],
   "source": [
    "img=cv2.imread(path, cv2.IMREAD_UNCHANGED)\n",
    "density=cv2.countNonZero(img)/(256*256)\n",
    "density"
   ]
  },
  {
   "cell_type": "code",
   "execution_count": 244,
   "id": "019bdeff",
   "metadata": {},
   "outputs": [
    {
     "ename": "AttributeError",
     "evalue": "'numpy.str_' object has no attribute 'type'",
     "output_type": "error",
     "traceback": [
      "\u001b[1;31m---------------------------------------------------------------------------\u001b[0m",
      "\u001b[1;31mAttributeError\u001b[0m                            Traceback (most recent call last)",
      "\u001b[1;32m~\\AppData\\Local\\Temp/ipykernel_10584/3563834846.py\u001b[0m in \u001b[0;36m<module>\u001b[1;34m\u001b[0m\n\u001b[1;32m----> 1\u001b[1;33m \u001b[0mmod0\u001b[0m\u001b[1;33m[\u001b[0m\u001b[1;33m:\u001b[0m\u001b[1;33m,\u001b[0m\u001b[1;36m1\u001b[0m\u001b[1;33m]\u001b[0m\u001b[1;33m[\u001b[0m\u001b[1;36m0\u001b[0m\u001b[1;33m]\u001b[0m\u001b[1;33m.\u001b[0m\u001b[0mtype\u001b[0m\u001b[1;33m\u001b[0m\u001b[1;33m\u001b[0m\u001b[0m\n\u001b[0m",
      "\u001b[1;31mAttributeError\u001b[0m: 'numpy.str_' object has no attribute 'type'"
     ]
    }
   ],
   "source": [
    "mod0[:,1][0].type"
   ]
  },
  {
   "cell_type": "code",
   "execution_count": 245,
   "id": "a0aa161d",
   "metadata": {},
   "outputs": [
    {
     "name": "stderr",
     "output_type": "stream",
     "text": [
      "C:\\Users\\sabri\\AppData\\Local\\Temp/ipykernel_10584/57793864.py:19: DeprecationWarning: `np.float` is a deprecated alias for the builtin `float`. To silence this warning, use `float` by itself. Doing this will not modify any behavior and is safe. If you specifically wanted the numpy scalar type, use `np.float64` here.\n",
      "Deprecated in NumPy 1.20; for more details and guidance: https://numpy.org/devdocs/release/1.20.0-notes.html#deprecations\n",
      "  normalized_mod=mod0[:,1].astype(np.float)/slope\n"
     ]
    }
   ],
   "source": [
    "modulus_0=[]\n",
    "faulty_0=[]\n",
    "folder='rw_cnn'\n",
    "\n",
    "for i in os.listdir('C:/Users/sabri/Desktop/LAMM/leaf_stylegan/bone_leaf/style_mixing/test/stress_strain_bone/'):\n",
    "    filename=f'C:/Users/sabri/Desktop/LAMM/leaf_stylegan/bone_leaf/style_mixing/test/stress_strain_bone/{i}'\n",
    "    data = np.loadtxt(filename, skiprows=1, dtype='float')\n",
    "    strain=-data[:,0]\n",
    "    pxx=-data[:,1]\n",
    "    pyy=-data[:,2]\n",
    "    pzz=-data[:,3]\n",
    "    plot_stress_strain(strain, pxx, i)\n",
    "    r2,mod=find_modulus(strain, pxx, i)\n",
    "    modulus_0.append([i,mod,r2])\n",
    "            \n",
    "mod0=np.asarray(modulus_0)\n",
    "faulty0=np.asarray(faulty_0)\n",
    "\n",
    "normalized_mod=mod0[:,1].astype(np.float)/slope"
   ]
  },
  {
   "cell_type": "code",
   "execution_count": 246,
   "id": "b3f5800e",
   "metadata": {},
   "outputs": [],
   "source": [
    "density=[]\n",
    "path1='C:/Users/sabri/Desktop/LAMM/leaf_stylegan/bone_leaf/style_mixing/test/unit/'\n",
    "for file in os.listdir('C:/Users/sabri/Desktop/LAMM/leaf_stylegan/bone_leaf/style_mixing/test/unit/'):\n",
    "    img=cv2.imread(path1+file, cv2.IMREAD_UNCHANGED)\n",
    "    density.append(cv2.countNonZero(img)/(256*256))"
   ]
  },
  {
   "cell_type": "code",
   "execution_count": 247,
   "id": "f7a9ca4d",
   "metadata": {},
   "outputs": [],
   "source": [
    "data=pd.concat([pd.DataFrame(density, columns=['Density']), pd.DataFrame(normalized_mod, columns=['Normalized Modulus'])], axis=1)"
   ]
  },
  {
   "cell_type": "code",
   "execution_count": 248,
   "id": "ebc289b7",
   "metadata": {},
   "outputs": [
    {
     "data": {
      "text/html": [
       "<div>\n",
       "<style scoped>\n",
       "    .dataframe tbody tr th:only-of-type {\n",
       "        vertical-align: middle;\n",
       "    }\n",
       "\n",
       "    .dataframe tbody tr th {\n",
       "        vertical-align: top;\n",
       "    }\n",
       "\n",
       "    .dataframe thead th {\n",
       "        text-align: right;\n",
       "    }\n",
       "</style>\n",
       "<table border=\"1\" class=\"dataframe\">\n",
       "  <thead>\n",
       "    <tr style=\"text-align: right;\">\n",
       "      <th></th>\n",
       "      <th>Density</th>\n",
       "      <th>Normalized Modulus</th>\n",
       "    </tr>\n",
       "  </thead>\n",
       "  <tbody>\n",
       "    <tr>\n",
       "      <th>0</th>\n",
       "      <td>0.636597</td>\n",
       "      <td>0.215551</td>\n",
       "    </tr>\n",
       "    <tr>\n",
       "      <th>1</th>\n",
       "      <td>0.536865</td>\n",
       "      <td>0.138018</td>\n",
       "    </tr>\n",
       "    <tr>\n",
       "      <th>2</th>\n",
       "      <td>0.349304</td>\n",
       "      <td>0.112703</td>\n",
       "    </tr>\n",
       "    <tr>\n",
       "      <th>3</th>\n",
       "      <td>0.345093</td>\n",
       "      <td>0.080582</td>\n",
       "    </tr>\n",
       "    <tr>\n",
       "      <th>4</th>\n",
       "      <td>0.732605</td>\n",
       "      <td>0.317863</td>\n",
       "    </tr>\n",
       "    <tr>\n",
       "      <th>5</th>\n",
       "      <td>0.447876</td>\n",
       "      <td>0.208313</td>\n",
       "    </tr>\n",
       "    <tr>\n",
       "      <th>6</th>\n",
       "      <td>0.293823</td>\n",
       "      <td>0.100072</td>\n",
       "    </tr>\n",
       "    <tr>\n",
       "      <th>7</th>\n",
       "      <td>0.444458</td>\n",
       "      <td>0.228550</td>\n",
       "    </tr>\n",
       "    <tr>\n",
       "      <th>8</th>\n",
       "      <td>0.413513</td>\n",
       "      <td>0.108123</td>\n",
       "    </tr>\n",
       "  </tbody>\n",
       "</table>\n",
       "</div>"
      ],
      "text/plain": [
       "    Density  Normalized Modulus\n",
       "0  0.636597            0.215551\n",
       "1  0.536865            0.138018\n",
       "2  0.349304            0.112703\n",
       "3  0.345093            0.080582\n",
       "4  0.732605            0.317863\n",
       "5  0.447876            0.208313\n",
       "6  0.293823            0.100072\n",
       "7  0.444458            0.228550\n",
       "8  0.413513            0.108123"
      ]
     },
     "execution_count": 248,
     "metadata": {},
     "output_type": "execute_result"
    }
   ],
   "source": [
    "data"
   ]
  },
  {
   "cell_type": "code",
   "execution_count": 232,
   "id": "1412057d",
   "metadata": {},
   "outputs": [
    {
     "data": {
      "text/plain": [
       "['stress_strain_0.txt',\n",
       " 'stress_strain_1.txt',\n",
       " 'stress_strain_2.txt',\n",
       " 'stress_strain_3.txt',\n",
       " 'stress_strain_4.txt',\n",
       " 'stress_strain_5.txt',\n",
       " 'stress_strain_6.txt',\n",
       " 'stress_strain_7.txt',\n",
       " 'stress_strain_8.txt']"
      ]
     },
     "execution_count": 232,
     "metadata": {},
     "output_type": "execute_result"
    }
   ],
   "source": [
    "os.listdir('C:/Users/sabri/Desktop/LAMM/leaf_stylegan/bone_leaf/style_mixing/test/stress_strain_bone/')"
   ]
  },
  {
   "cell_type": "code",
   "execution_count": 142,
   "id": "a7d7d888",
   "metadata": {},
   "outputs": [],
   "source": [
    "for i in faulty_1:\n",
    "    filename=f'stress_strain/stress_strain_{i}.txt'\n",
    "    data = np.loadtxt(filename, skiprows=1, dtype='float')\n",
    "    strain=-data[:,0]\n",
    "    pxx=-data[:,1]\n",
    "    pyy=-data[:,2]\n",
    "    pzz=-data[:,3]\n",
    "    plot_stress_strain(strain, pxx, i)"
   ]
  },
  {
   "cell_type": "code",
   "execution_count": 98,
   "id": "93a17620",
   "metadata": {},
   "outputs": [],
   "source": [
    "#Save to CSV\n",
    "df_mod = pd.DataFrame(mod0) \n",
    "df_faulty = pd.DataFrame(faulty0)\n",
    "# saving the dataframe \n",
    "df_mod.to_csv('./modulus.csv', header=['i','modulus','r2'], index=False ) \n",
    "df_faulty.to_csv('./faulty.csv', header=['index'], index=False ) "
   ]
  },
  {
   "cell_type": "code",
   "execution_count": null,
   "id": "95038340",
   "metadata": {},
   "outputs": [],
   "source": []
  },
  {
   "cell_type": "code",
   "execution_count": 246,
   "id": "d7c4c410",
   "metadata": {},
   "outputs": [
    {
     "data": {
      "image/png": "[encoded data removed]",
      "text/plain": [
       "<Figure size 432x288 with 1 Axes>"
      ]
     },
     "metadata": {
      "needs_background": "light"
     },
     "output_type": "display_data"
    }
   ],
   "source": []
  },
  {
   "cell_type": "code",
   "execution_count": 93,
   "id": "51ffbc2e",
   "metadata": {},
   "outputs": [],
   "source": [
    "#Normalize modulus based on solid geometry\n",
    "normalized_mod=mod0[:,1]/slope"
   ]
  },
  {
   "cell_type": "code",
   "execution_count": 94,
   "id": "82ead7df",
   "metadata": {},
   "outputs": [
    {
     "data": {
      "image/png": "[encoded data removed]",
      "text/plain": [
       "<Figure size 432x288 with 1 Axes>"
      ]
     },
     "metadata": {
      "needs_background": "light"
     },
     "output_type": "display_data"
    }
   ],
   "source": [
    "a=plt.hist(normalized_mod, bins=20)\n",
    "plt.xlabel('Modulus (GPa)')\n",
    "plt.ylabel('Count')\n",
    "plt.show()"
   ]
  },
  {
   "cell_type": "code",
   "execution_count": 95,
   "id": "7b754f94",
   "metadata": {},
   "outputs": [],
   "source": [
    "density=pd.read_csv(\"./0-1000/density.csv\")"
   ]
  },
  {
   "cell_type": "code",
   "execution_count": 96,
   "id": "7bb93156",
   "metadata": {},
   "outputs": [],
   "source": [
    "data=pd.concat([density, pd.DataFrame(normalized_mod, columns=['Normalized Modulus']),pd.DataFrame(os.listdir('./images'),columns=['Filename'])], axis=1)"
   ]
  },
  {
   "cell_type": "code",
   "execution_count": 37,
   "id": "86dc5dba",
   "metadata": {},
   "outputs": [],
   "source": [
    "data = pd.DataFrame(normalized_mod, columns=['Normalized Modulus'])"
   ]
  },
  {
   "cell_type": "code",
   "execution_count": 97,
   "id": "03f7eb08",
   "metadata": {},
   "outputs": [],
   "source": [
    "data.to_csv('C:/Users/sabri/Desktop/LAMM/leaf_stylegan/MD/data_v3.csv', index=False)\n",
    "#data.to_csv('C:/Users/sabri/Desktop/LAMM/leaf_stylegan/GA/stress_strain_GA/moduli.CSV', index=False)"
   ]
  },
  {
   "cell_type": "code",
   "execution_count": 136,
   "id": "00d3c809",
   "metadata": {},
   "outputs": [
    {
     "data": {
      "image/png": "[encoded data removed]",
      "text/plain": [
       "<Figure size 432x288 with 1 Axes>"
      ]
     },
     "metadata": {
      "needs_background": "light"
     },
     "output_type": "display_data"
    }
   ],
   "source": [
    "fig, ax = plt.subplots()\n",
    "\n",
    "ax.scatter(data['density'], data['Normalized Modulus'])\n",
    "\n",
    "ax.set_xlabel('Density')\n",
    "ax.set_ylabel('Normalized Modulus')\n",
    "\n",
    "\n",
    "plt.show()\n",
    "    \n",
    "plt.close()"
   ]
  },
  {
   "cell_type": "code",
   "execution_count": null,
   "id": "e64d1d38",
   "metadata": {},
   "outputs": [],
   "source": []
  },
  {
   "cell_type": "code",
   "execution_count": 203,
   "id": "d2991d6a",
   "metadata": {},
   "outputs": [],
   "source": [
    "data=pd.read_csv('C:/Users/sabri/Desktop/LAMM/leaf_stylegan/GA/data_v3.csv')"
   ]
  },
  {
   "cell_type": "code",
   "execution_count": 204,
   "id": "08271f3c",
   "metadata": {},
   "outputs": [
    {
     "data": {
      "text/html": [
       "<div>\n",
       "<style scoped>\n",
       "    .dataframe tbody tr th:only-of-type {\n",
       "        vertical-align: middle;\n",
       "    }\n",
       "\n",
       "    .dataframe tbody tr th {\n",
       "        vertical-align: top;\n",
       "    }\n",
       "\n",
       "    .dataframe thead th {\n",
       "        text-align: right;\n",
       "    }\n",
       "</style>\n",
       "<table border=\"1\" class=\"dataframe\">\n",
       "  <thead>\n",
       "    <tr style=\"text-align: right;\">\n",
       "      <th></th>\n",
       "      <th>unit</th>\n",
       "      <th>density</th>\n",
       "      <th>mod_norm</th>\n",
       "      <th>Filename</th>\n",
       "    </tr>\n",
       "  </thead>\n",
       "  <tbody>\n",
       "    <tr>\n",
       "      <th>0</th>\n",
       "      <td>0</td>\n",
       "      <td>0.449097</td>\n",
       "      <td>0.091720</td>\n",
       "      <td>0000_smoothed.png</td>\n",
       "    </tr>\n",
       "    <tr>\n",
       "      <th>1</th>\n",
       "      <td>1</td>\n",
       "      <td>0.239075</td>\n",
       "      <td>0.071529</td>\n",
       "      <td>0001_smoothed.png</td>\n",
       "    </tr>\n",
       "    <tr>\n",
       "      <th>2</th>\n",
       "      <td>2</td>\n",
       "      <td>0.334167</td>\n",
       "      <td>0.085433</td>\n",
       "      <td>0002_smoothed.png</td>\n",
       "    </tr>\n",
       "    <tr>\n",
       "      <th>3</th>\n",
       "      <td>3</td>\n",
       "      <td>0.825378</td>\n",
       "      <td>0.411382</td>\n",
       "      <td>0003_smoothed.png</td>\n",
       "    </tr>\n",
       "    <tr>\n",
       "      <th>4</th>\n",
       "      <td>4</td>\n",
       "      <td>0.426392</td>\n",
       "      <td>0.079227</td>\n",
       "      <td>0004_smoothed.png</td>\n",
       "    </tr>\n",
       "    <tr>\n",
       "      <th>...</th>\n",
       "      <td>...</td>\n",
       "      <td>...</td>\n",
       "      <td>...</td>\n",
       "      <td>...</td>\n",
       "    </tr>\n",
       "    <tr>\n",
       "      <th>4995</th>\n",
       "      <td>4995</td>\n",
       "      <td>0.378174</td>\n",
       "      <td>0.083176</td>\n",
       "      <td>4995_smoothed.png</td>\n",
       "    </tr>\n",
       "    <tr>\n",
       "      <th>4996</th>\n",
       "      <td>4996</td>\n",
       "      <td>0.296326</td>\n",
       "      <td>0.132388</td>\n",
       "      <td>4996_smoothed.png</td>\n",
       "    </tr>\n",
       "    <tr>\n",
       "      <th>4997</th>\n",
       "      <td>4997</td>\n",
       "      <td>0.385742</td>\n",
       "      <td>0.093868</td>\n",
       "      <td>4997_smoothed.png</td>\n",
       "    </tr>\n",
       "    <tr>\n",
       "      <th>4998</th>\n",
       "      <td>4998</td>\n",
       "      <td>0.363464</td>\n",
       "      <td>0.106047</td>\n",
       "      <td>4998_smoothed.png</td>\n",
       "    </tr>\n",
       "    <tr>\n",
       "      <th>4999</th>\n",
       "      <td>4999</td>\n",
       "      <td>0.426514</td>\n",
       "      <td>0.094097</td>\n",
       "      <td>4999_smoothed.png</td>\n",
       "    </tr>\n",
       "  </tbody>\n",
       "</table>\n",
       "<p>5000 rows × 4 columns</p>\n",
       "</div>"
      ],
      "text/plain": [
       "      unit   density  mod_norm           Filename\n",
       "0        0  0.449097  0.091720  0000_smoothed.png\n",
       "1        1  0.239075  0.071529  0001_smoothed.png\n",
       "2        2  0.334167  0.085433  0002_smoothed.png\n",
       "3        3  0.825378  0.411382  0003_smoothed.png\n",
       "4        4  0.426392  0.079227  0004_smoothed.png\n",
       "...    ...       ...       ...                ...\n",
       "4995  4995  0.378174  0.083176  4995_smoothed.png\n",
       "4996  4996  0.296326  0.132388  4996_smoothed.png\n",
       "4997  4997  0.385742  0.093868  4997_smoothed.png\n",
       "4998  4998  0.363464  0.106047  4998_smoothed.png\n",
       "4999  4999  0.426514  0.094097  4999_smoothed.png\n",
       "\n",
       "[5000 rows x 4 columns]"
      ]
     },
     "execution_count": 204,
     "metadata": {},
     "output_type": "execute_result"
    }
   ],
   "source": [
    "data"
   ]
  },
  {
   "cell_type": "code",
   "execution_count": 206,
   "id": "983322e3",
   "metadata": {},
   "outputs": [],
   "source": [
    "data=data.drop(columns='Filename')"
   ]
  },
  {
   "cell_type": "code",
   "execution_count": 212,
   "id": "27e057aa",
   "metadata": {},
   "outputs": [
    {
     "data": {
      "text/html": [
       "<div>\n",
       "<style scoped>\n",
       "    .dataframe tbody tr th:only-of-type {\n",
       "        vertical-align: middle;\n",
       "    }\n",
       "\n",
       "    .dataframe tbody tr th {\n",
       "        vertical-align: top;\n",
       "    }\n",
       "\n",
       "    .dataframe thead th {\n",
       "        text-align: right;\n",
       "    }\n",
       "</style>\n",
       "<table border=\"1\" class=\"dataframe\">\n",
       "  <thead>\n",
       "    <tr style=\"text-align: right;\">\n",
       "      <th></th>\n",
       "      <th>density</th>\n",
       "      <th>mod_norm</th>\n",
       "    </tr>\n",
       "  </thead>\n",
       "  <tbody>\n",
       "    <tr>\n",
       "      <th>0</th>\n",
       "      <td>0.449097</td>\n",
       "      <td>0.091720</td>\n",
       "    </tr>\n",
       "    <tr>\n",
       "      <th>1</th>\n",
       "      <td>0.239075</td>\n",
       "      <td>0.071529</td>\n",
       "    </tr>\n",
       "    <tr>\n",
       "      <th>2</th>\n",
       "      <td>0.334167</td>\n",
       "      <td>0.085433</td>\n",
       "    </tr>\n",
       "    <tr>\n",
       "      <th>3</th>\n",
       "      <td>0.825378</td>\n",
       "      <td>0.411382</td>\n",
       "    </tr>\n",
       "    <tr>\n",
       "      <th>4</th>\n",
       "      <td>0.426392</td>\n",
       "      <td>0.079227</td>\n",
       "    </tr>\n",
       "    <tr>\n",
       "      <th>...</th>\n",
       "      <td>...</td>\n",
       "      <td>...</td>\n",
       "    </tr>\n",
       "    <tr>\n",
       "      <th>4995</th>\n",
       "      <td>0.378174</td>\n",
       "      <td>0.083176</td>\n",
       "    </tr>\n",
       "    <tr>\n",
       "      <th>4996</th>\n",
       "      <td>0.296326</td>\n",
       "      <td>0.132388</td>\n",
       "    </tr>\n",
       "    <tr>\n",
       "      <th>4997</th>\n",
       "      <td>0.385742</td>\n",
       "      <td>0.093868</td>\n",
       "    </tr>\n",
       "    <tr>\n",
       "      <th>4998</th>\n",
       "      <td>0.363464</td>\n",
       "      <td>0.106047</td>\n",
       "    </tr>\n",
       "    <tr>\n",
       "      <th>4999</th>\n",
       "      <td>0.426514</td>\n",
       "      <td>0.094097</td>\n",
       "    </tr>\n",
       "  </tbody>\n",
       "</table>\n",
       "<p>4295 rows × 2 columns</p>\n",
       "</div>"
      ],
      "text/plain": [
       "       density  mod_norm\n",
       "0     0.449097  0.091720\n",
       "1     0.239075  0.071529\n",
       "2     0.334167  0.085433\n",
       "3     0.825378  0.411382\n",
       "4     0.426392  0.079227\n",
       "...        ...       ...\n",
       "4995  0.378174  0.083176\n",
       "4996  0.296326  0.132388\n",
       "4997  0.385742  0.093868\n",
       "4998  0.363464  0.106047\n",
       "4999  0.426514  0.094097\n",
       "\n",
       "[4295 rows x 2 columns]"
      ]
     },
     "execution_count": 212,
     "metadata": {},
     "output_type": "execute_result"
    }
   ],
   "source": [
    "data"
   ]
  },
  {
   "cell_type": "code",
   "execution_count": 211,
   "id": "6569fae7",
   "metadata": {},
   "outputs": [],
   "source": [
    "data.drop(data[data.mod_norm == 0].index, inplace=True)"
   ]
  },
  {
   "cell_type": "code",
   "execution_count": 215,
   "id": "f21114fa",
   "metadata": {},
   "outputs": [],
   "source": [
    "data.to_csv('C:/Users/sabri/Desktop/LAMM/leaf_stylegan/MD/data_v3_drop_zeros.csv', index=False)"
   ]
  },
  {
   "cell_type": "code",
   "execution_count": 213,
   "id": "f3c17257",
   "metadata": {},
   "outputs": [],
   "source": [
    "data_np=data.to_numpy()"
   ]
  },
  {
   "cell_type": "code",
   "execution_count": 214,
   "id": "550636b8",
   "metadata": {},
   "outputs": [
    {
     "data": {
      "text/plain": [
       "(4295, 2)"
      ]
     },
     "execution_count": 214,
     "metadata": {},
     "output_type": "execute_result"
    }
   ],
   "source": [
    "data_np.shape"
   ]
  },
  {
   "cell_type": "code",
   "execution_count": 216,
   "id": "48629f13",
   "metadata": {},
   "outputs": [],
   "source": [
    "top_pop = data_np[:,1][50:100]"
   ]
  },
  {
   "cell_type": "code",
   "execution_count": 218,
   "id": "7fe1363f",
   "metadata": {},
   "outputs": [
    {
     "data": {
      "text/plain": [
       "0.063571699"
      ]
     },
     "execution_count": 218,
     "metadata": {},
     "output_type": "execute_result"
    }
   ],
   "source": [
    "top_pop[25]"
   ]
  },
  {
   "cell_type": "code",
   "execution_count": 149,
   "id": "55481b71",
   "metadata": {},
   "outputs": [],
   "source": [
    "data_np=data_np.reshape(6930)"
   ]
  },
  {
   "cell_type": "code",
   "execution_count": 222,
   "id": "fc4cf647",
   "metadata": {},
   "outputs": [
    {
     "data": {
      "text/html": [
       "<div>\n",
       "<style scoped>\n",
       "    .dataframe tbody tr th:only-of-type {\n",
       "        vertical-align: middle;\n",
       "    }\n",
       "\n",
       "    .dataframe tbody tr th {\n",
       "        vertical-align: top;\n",
       "    }\n",
       "\n",
       "    .dataframe thead th {\n",
       "        text-align: right;\n",
       "    }\n",
       "</style>\n",
       "<table border=\"1\" class=\"dataframe\">\n",
       "  <thead>\n",
       "    <tr style=\"text-align: right;\">\n",
       "      <th></th>\n",
       "      <th>0</th>\n",
       "    </tr>\n",
       "  </thead>\n",
       "  <tbody>\n",
       "    <tr>\n",
       "      <th>0</th>\n",
       "      <td>0.png</td>\n",
       "    </tr>\n",
       "    <tr>\n",
       "      <th>1</th>\n",
       "      <td>1.png</td>\n",
       "    </tr>\n",
       "    <tr>\n",
       "      <th>2</th>\n",
       "      <td>10.png</td>\n",
       "    </tr>\n",
       "    <tr>\n",
       "      <th>3</th>\n",
       "      <td>11.png</td>\n",
       "    </tr>\n",
       "    <tr>\n",
       "      <th>4</th>\n",
       "      <td>12.png</td>\n",
       "    </tr>\n",
       "    <tr>\n",
       "      <th>5</th>\n",
       "      <td>13.png</td>\n",
       "    </tr>\n",
       "    <tr>\n",
       "      <th>6</th>\n",
       "      <td>14.png</td>\n",
       "    </tr>\n",
       "    <tr>\n",
       "      <th>7</th>\n",
       "      <td>15.png</td>\n",
       "    </tr>\n",
       "    <tr>\n",
       "      <th>8</th>\n",
       "      <td>16.png</td>\n",
       "    </tr>\n",
       "    <tr>\n",
       "      <th>9</th>\n",
       "      <td>17.png</td>\n",
       "    </tr>\n",
       "    <tr>\n",
       "      <th>10</th>\n",
       "      <td>18.png</td>\n",
       "    </tr>\n",
       "    <tr>\n",
       "      <th>11</th>\n",
       "      <td>19.png</td>\n",
       "    </tr>\n",
       "    <tr>\n",
       "      <th>12</th>\n",
       "      <td>2.png</td>\n",
       "    </tr>\n",
       "    <tr>\n",
       "      <th>13</th>\n",
       "      <td>20.png</td>\n",
       "    </tr>\n",
       "    <tr>\n",
       "      <th>14</th>\n",
       "      <td>21.png</td>\n",
       "    </tr>\n",
       "    <tr>\n",
       "      <th>15</th>\n",
       "      <td>22.png</td>\n",
       "    </tr>\n",
       "    <tr>\n",
       "      <th>16</th>\n",
       "      <td>23.png</td>\n",
       "    </tr>\n",
       "    <tr>\n",
       "      <th>17</th>\n",
       "      <td>24.png</td>\n",
       "    </tr>\n",
       "    <tr>\n",
       "      <th>18</th>\n",
       "      <td>25.png</td>\n",
       "    </tr>\n",
       "    <tr>\n",
       "      <th>19</th>\n",
       "      <td>26.png</td>\n",
       "    </tr>\n",
       "    <tr>\n",
       "      <th>20</th>\n",
       "      <td>27.png</td>\n",
       "    </tr>\n",
       "    <tr>\n",
       "      <th>21</th>\n",
       "      <td>28.png</td>\n",
       "    </tr>\n",
       "    <tr>\n",
       "      <th>22</th>\n",
       "      <td>29.png</td>\n",
       "    </tr>\n",
       "    <tr>\n",
       "      <th>23</th>\n",
       "      <td>3.png</td>\n",
       "    </tr>\n",
       "    <tr>\n",
       "      <th>24</th>\n",
       "      <td>30.png</td>\n",
       "    </tr>\n",
       "    <tr>\n",
       "      <th>25</th>\n",
       "      <td>31.png</td>\n",
       "    </tr>\n",
       "    <tr>\n",
       "      <th>26</th>\n",
       "      <td>32.png</td>\n",
       "    </tr>\n",
       "    <tr>\n",
       "      <th>27</th>\n",
       "      <td>33.png</td>\n",
       "    </tr>\n",
       "    <tr>\n",
       "      <th>28</th>\n",
       "      <td>34.png</td>\n",
       "    </tr>\n",
       "    <tr>\n",
       "      <th>29</th>\n",
       "      <td>35.png</td>\n",
       "    </tr>\n",
       "    <tr>\n",
       "      <th>30</th>\n",
       "      <td>36.png</td>\n",
       "    </tr>\n",
       "    <tr>\n",
       "      <th>31</th>\n",
       "      <td>37.png</td>\n",
       "    </tr>\n",
       "    <tr>\n",
       "      <th>32</th>\n",
       "      <td>38.png</td>\n",
       "    </tr>\n",
       "    <tr>\n",
       "      <th>33</th>\n",
       "      <td>39.png</td>\n",
       "    </tr>\n",
       "    <tr>\n",
       "      <th>34</th>\n",
       "      <td>4.png</td>\n",
       "    </tr>\n",
       "    <tr>\n",
       "      <th>35</th>\n",
       "      <td>40.png</td>\n",
       "    </tr>\n",
       "    <tr>\n",
       "      <th>36</th>\n",
       "      <td>41.png</td>\n",
       "    </tr>\n",
       "    <tr>\n",
       "      <th>37</th>\n",
       "      <td>42.png</td>\n",
       "    </tr>\n",
       "    <tr>\n",
       "      <th>38</th>\n",
       "      <td>43.png</td>\n",
       "    </tr>\n",
       "    <tr>\n",
       "      <th>39</th>\n",
       "      <td>44.png</td>\n",
       "    </tr>\n",
       "    <tr>\n",
       "      <th>40</th>\n",
       "      <td>45.png</td>\n",
       "    </tr>\n",
       "    <tr>\n",
       "      <th>41</th>\n",
       "      <td>46.png</td>\n",
       "    </tr>\n",
       "    <tr>\n",
       "      <th>42</th>\n",
       "      <td>47.png</td>\n",
       "    </tr>\n",
       "    <tr>\n",
       "      <th>43</th>\n",
       "      <td>48.png</td>\n",
       "    </tr>\n",
       "    <tr>\n",
       "      <th>44</th>\n",
       "      <td>49.png</td>\n",
       "    </tr>\n",
       "    <tr>\n",
       "      <th>45</th>\n",
       "      <td>5.png</td>\n",
       "    </tr>\n",
       "    <tr>\n",
       "      <th>46</th>\n",
       "      <td>6.png</td>\n",
       "    </tr>\n",
       "    <tr>\n",
       "      <th>47</th>\n",
       "      <td>7.png</td>\n",
       "    </tr>\n",
       "    <tr>\n",
       "      <th>48</th>\n",
       "      <td>8.png</td>\n",
       "    </tr>\n",
       "    <tr>\n",
       "      <th>49</th>\n",
       "      <td>9.png</td>\n",
       "    </tr>\n",
       "  </tbody>\n",
       "</table>\n",
       "</div>"
      ],
      "text/plain": [
       "         0\n",
       "0    0.png\n",
       "1    1.png\n",
       "2   10.png\n",
       "3   11.png\n",
       "4   12.png\n",
       "5   13.png\n",
       "6   14.png\n",
       "7   15.png\n",
       "8   16.png\n",
       "9   17.png\n",
       "10  18.png\n",
       "11  19.png\n",
       "12   2.png\n",
       "13  20.png\n",
       "14  21.png\n",
       "15  22.png\n",
       "16  23.png\n",
       "17  24.png\n",
       "18  25.png\n",
       "19  26.png\n",
       "20  27.png\n",
       "21  28.png\n",
       "22  29.png\n",
       "23   3.png\n",
       "24  30.png\n",
       "25  31.png\n",
       "26  32.png\n",
       "27  33.png\n",
       "28  34.png\n",
       "29  35.png\n",
       "30  36.png\n",
       "31  37.png\n",
       "32  38.png\n",
       "33  39.png\n",
       "34   4.png\n",
       "35  40.png\n",
       "36  41.png\n",
       "37  42.png\n",
       "38  43.png\n",
       "39  44.png\n",
       "40  45.png\n",
       "41  46.png\n",
       "42  47.png\n",
       "43  48.png\n",
       "44  49.png\n",
       "45   5.png\n",
       "46   6.png\n",
       "47   7.png\n",
       "48   8.png\n",
       "49   9.png"
      ]
     },
     "execution_count": 222,
     "metadata": {},
     "output_type": "execute_result"
    }
   ],
   "source": [
    "pd.DataFrame(os.listdir(f'C:/Users/sabri/Desktop/LAMM/leaf_stylegan/GA/img_{folder}/top_pop/'))"
   ]
  },
  {
   "cell_type": "code",
   "execution_count": 126,
   "id": "b4696b23",
   "metadata": {},
   "outputs": [],
   "source": [
    "sorted=np.argsort(-top_mod)"
   ]
  },
  {
   "cell_type": "code",
   "execution_count": 192,
   "id": "a6f8a381",
   "metadata": {},
   "outputs": [
    {
     "data": {
      "text/plain": [
       "array([17,  9, 21, 48, 49, 18, 40, 11,  6, 31], dtype=int64)"
      ]
     },
     "execution_count": 192,
     "metadata": {},
     "output_type": "execute_result"
    }
   ],
   "source": [
    "sorted[30:40]"
   ]
  },
  {
   "cell_type": "code",
   "execution_count": 166,
   "id": "8822fc67",
   "metadata": {},
   "outputs": [
    {
     "data": {
      "text/plain": [
       "array([-0.16270936, -0.16271013, -0.16271031, -0.1627118 , -0.16515815,\n",
       "       -0.16515875, -0.16516149, -0.16516149, -0.16516167])"
      ]
     },
     "execution_count": 166,
     "metadata": {},
     "output_type": "execute_result"
    }
   ],
   "source": [
    "data_np[sorted[71:80]]"
   ]
  },
  {
   "cell_type": "code",
   "execution_count": 231,
   "id": "1f525749",
   "metadata": {},
   "outputs": [
    {
     "data": {
      "text/plain": [
       "['111-111.png',\n",
       " '111-139.png',\n",
       " '139-139.png',\n",
       " '139-540.png',\n",
       " '540-540.png',\n",
       " '87-87.png',\n",
       " 'Picture2.png',\n",
       " 'Picture3.png',\n",
       " 'Picture4.png',\n",
       " 'unit']"
      ]
     },
     "execution_count": 231,
     "metadata": {},
     "output_type": "execute_result"
    }
   ],
   "source": [
    "os.listdir('C:/Users/sabri/Desktop/LAMM/leaf_stylegan/bone_leaf/style_mixing/test')"
   ]
  },
  {
   "cell_type": "code",
   "execution_count": null,
   "id": "bd1cb1ce",
   "metadata": {},
   "outputs": [],
   "source": []
  }
 ],
 "metadata": {
  "kernelspec": {
   "display_name": "Python 3 (ipykernel)",
   "language": "python",
   "name": "python3"
  },
  "language_info": {
   "codemirror_mode": {
    "name": "ipython",
    "version": 3
   },
   "file_extension": ".py",
   "mimetype": "text/x-python",
   "name": "python",
   "nbconvert_exporter": "python",
   "pygments_lexer": "ipython3",
   "version": "3.8.12"
  }
 },
 "nbformat": 4,
 "nbformat_minor": 5
}

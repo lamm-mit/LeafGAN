{
 "cells": [
  {
   "cell_type": "markdown",
   "metadata": {
    "id": "jG7ZEc_982io"
   },
   "source": [
    "# Leaf StyleGAN\n",
    "\n",
    "Generation of images, processing into unit cells, and exploration of latent space with Nvidia's StyleGAN  \n",
    "\n",
    "Markus J Buehler, MIT, 2021 \n",
    "Edits by Sabrina Shen, MIT, 2022\n",
    "\n",
    "Shen, S.C., Buehler, M.J. Nature-inspired Architected materials using unsupervised deep learning. Accepted (2022)."
   ]
  },
  {
   "cell_type": "code",
   "execution_count": 1,
   "metadata": {},
   "outputs": [],
   "source": [
    "import os,sys\n",
    "\n",
    "#os.environ[\"CUDA_VISIBLE_DEVICES\"] = \"-1\"\n",
    "import matplotlib.pyplot as plt\n",
    "\n",
    "import numpy as np\n",
    "import cv2\n",
    "import PIL \n",
    "from PIL import Image, ImageOps, ImageFilter\n",
    "import skimage.io\n",
    "import skimage.filters\n",
    "import pandas as pd\n",
    "\n",
    "import seaborn as sns\n",
    "\n",
    "import ImageTools\n",
    "import vox2STL\n",
    "\n",
    "import csv\n",
    "from numpy import genfromtxt\n",
    "\n",
    "#Target res:  1024×1024\n",
    "\n",
    "#!pip install ninja opensimplex torch==1.7.1 torchvision==0.8.2"
   ]
  },
  {
   "cell_type": "markdown",
   "metadata": {
    "id": "Vj4PG4_i9Alt"
   },
   "source": [
    "## Setup"
   ]
  },
  {
   "cell_type": "code",
   "execution_count": 2,
   "metadata": {
    "id": "7VVICTCvd4mc"
   },
   "outputs": [
    {
     "name": "stdout",
     "output_type": "stream",
     "text": [
      "GPU 0: Quadro RTX 5000 (UUID: GPU-78162963-0a30-bd79-76cb-1dd6b2a4206c)\n"
     ]
    }
   ],
   "source": [
    "!nvidia-smi -L"
   ]
  },
  {
   "cell_type": "markdown",
   "metadata": {},
   "source": [
    "## Generate a set of images based on random seeds"
   ]
  },
  {
   "cell_type": "code",
   "execution_count": 13,
   "metadata": {},
   "outputs": [
    {
     "name": "stdout",
     "output_type": "stream",
     "text": [
      "Loading networks from \"./leaf-network-snapshot.pkl\"...\n",
      "Generating image for seed 5000 (0/5000) ...\n",
      "Setting up PyTorch plugin \"bias_act_plugin\"... Done.\n",
      "Setting up PyTorch plugin \"upfirdn2d_plugin\"... Done.\n",
      "Generating image for seed 5001 (1/5000) ...\n",
      "Generating image for seed 5002 (2/5000) ...\n",
      "Generating image for seed 5003 (3/5000) ...\n",
      "Generating image for seed 5004 (4/5000) ...\n",
      "Generating image for seed 5005 (5/5000) ...\n",
      "Generating image for seed 5006 (6/5000) ...\n",
      "Generating image for seed 5007 (7/5000) ...\n",
      "Generating image for seed 5008 (8/5000) ...\n",
      "Generating image for seed 5009 (9/5000) ...\n",
      "Generating image for seed 5010 (10/5000) ...\n",
      "Generating image for seed 5011 (11/5000) ...\n",
      "Generating image for seed 5012 (12/5000) ...\n",
      "Generating image for seed 5013 (13/5000) ...\n",
      "Generating image for seed 5014 (14/5000) ...\n",
      "Generating image for seed 5015 (15/5000) ...\n",
      "Generating image for seed 5016 (16/5000) ...\n",
      "Generating image for seed 5017 (17/5000) ...\n",
      "Generating image for seed 5018 (18/5000) ...\n",
      "Generating image for seed 5019 (19/5000) ...\n",
      "Generating image for seed 5020 (20/5000) ...\n",
      "Generating image for seed 5021 (21/5000) ...\n",
      "Generating image for seed 5022 (22/5000) ...\n",
      "Generating image for seed 5023 (23/5000) ...\n",
      "Generating image for seed 5024 (24/5000) ...\n",
      "Generating image for seed 5025 (25/5000) ...\n",
      "Generating image for seed 5026 (26/5000) ...\n",
      "Generating image for seed 5027 (27/5000) ...\n",
      "Generating image for seed 5028 (28/5000) ...\n",
      "Generating image for seed 5029 (29/5000) ...\n",
      "Generating image for seed 5030 (30/5000) ...\n",
      "Generating image for seed 5031 (31/5000) ...\n",
      "Generating image for seed 5032 (32/5000) ...\n",
      "Generating image for seed 5033 (33/5000) ...\n",
      "Generating image for seed 5034 (34/5000) ...\n",
      "Generating image for seed 5035 (35/5000) ...\n",
      "Generating image for seed 5036 (36/5000) ...\n",
      "Generating image for seed 5037 (37/5000) ...\n",
      "Generating image for seed 5038 (38/5000) ...\n",
      "Generating image for seed 5039 (39/5000) ...\n",
      "Generating image for seed 5040 (40/5000) ...\n",
      "Generating image for seed 5041 (41/5000) ...\n",
      "Generating image for seed 5042 (42/5000) ...\n",
      "Generating image for seed 5043 (43/5000) ...\n",
      "Generating image for seed 5044 (44/5000) ...\n",
      "Generating image for seed 5045 (45/5000) ...\n",
      "Generating image for seed 5046 (46/5000) ...\n",
      "Generating image for seed 5047 (47/5000) ...\n",
      "Generating image for seed 5048 (48/5000) ...\n",
      "Generating image for seed 5049 (49/5000) ...\n",
      "Generating image for seed 5050 (50/5000) ...\n",
      "Generating image for seed 5051 (51/5000) ...\n",
      "Generating image for seed 5052 (52/5000) ...\n",
      "Generating image for seed 5053 (53/5000) ...\n",
      "Generating image for seed 5054 (54/5000) ...\n",
      "Generating image for seed 5055 (55/5000) ...\n",
      "Generating image for seed 5056 (56/5000) ...\n",
      "Generating image for seed 5057 (57/5000) ...\n",
      "Generating image for seed 5058 (58/5000) ...\n",
      "Generating image for seed 5059 (59/5000) ...\n",
      "Generating image for seed 5060 (60/5000) ...\n",
      "Generating image for seed 5061 (61/5000) ...\n",
      "Generating image for seed 5062 (62/5000) ...\n",
      "Generating image for seed 5063 (63/5000) ...\n",
      "Generating image for seed 5064 (64/5000) ...\n",
      "Generating image for seed 5065 (65/5000) ...\n",
      "Generating image for seed 5066 (66/5000) ...\n",
      "Generating image for seed 5067 (67/5000) ...\n",
      "Generating image for seed 5068 (68/5000) ...\n",
      "Generating image for seed 5069 (69/5000) ...\n",
      "Generating image for seed 5070 (70/5000) ...\n",
      "Generating image for seed 5071 (71/5000) ...\n",
      "Generating image for seed 5072 (72/5000) ...\n",
      "Generating image for seed 5073 (73/5000) ...\n",
      "Generating image for seed 5074 (74/5000) ...\n",
      "Generating image for seed 5075 (75/5000) ...\n",
      "Generating image for seed 5076 (76/5000) ...\n",
      "Generating image for seed 5077 (77/5000) ...\n",
      "Generating image for seed 5078 (78/5000) ...\n",
      "Generating image for seed 5079 (79/5000) ...\n",
      "Generating image for seed 5080 (80/5000) ...\n",
      "Generating image for seed 5081 (81/5000) ...\n",
      "Generating image for seed 5082 (82/5000) ...\n",
      "Generating image for seed 5083 (83/5000) ...\n",
      "Generating image for seed 5084 (84/5000) ...\n",
      "Generating image for seed 5085 (85/5000) ...\n",
      "Generating image for seed 5086 (86/5000) ...\n",
      "Generating image for seed 5087 (87/5000) ...\n",
      "Generating image for seed 5088 (88/5000) ...\n",
      "Generating image for seed 5089 (89/5000) ...\n",
      "Generating image for seed 5090 (90/5000) ...\n",
      "Generating image for seed 5091 (91/5000) ...\n",
      "Generating image for seed 5092 (92/5000) ...\n",
      "Generating image for seed 5093 (93/5000) ...\n",
      "Generating image for seed 5094 (94/5000) ...\n",
      "Generating image for seed 5095 (95/5000) ...\n",
      "Generating image for seed 5096 (96/5000) ...\n",
      "Generating image for seed 5097 (97/5000) ...\n",
      "Generating image for seed 5098 (98/5000) ...\n",
      "Generating image for seed 5099 (99/5000) ...\n",
      "Generating image for seed 5100 (100/5000) ...\n",
      "Generating image for seed 5101 (101/5000) ...\n",
      "Generating image for seed 5102 (102/5000) ...\n",
      "Generating image for seed 5103 (103/5000) ...\n",
      "Generating image for seed 5104 (104/5000) ...\n",
      "Generating image for seed 5105 (105/5000) ...\n",
      "Generating image for seed 5106 (106/5000) ...\n",
      "Generating image for seed 5107 (107/5000) ...\n",
      "Generating image for seed 5108 (108/5000) ...\n",
      "Generating image for seed 5109 (109/5000) ...\n",
      "Generating image for seed 5110 (110/5000) ...\n",
      "Generating image for seed 5111 (111/5000) ...\n",
      "Generating image for seed 5112 (112/5000) ...\n",
      "Generating image for seed 5113 (113/5000) ...\n",
      "Generating image for seed 5114 (114/5000) ...\n",
      "Generating image for seed 5115 (115/5000) ...\n",
      "Generating image for seed 5116 (116/5000) ...\n",
      "Generating image for seed 5117 (117/5000) ...\n",
      "Generating image for seed 5118 (118/5000) ...\n",
      "Generating image for seed 5119 (119/5000) ...\n",
      "Generating image for seed 5120 (120/5000) ...\n",
      "Generating image for seed 5121 (121/5000) ...\n",
      "Generating image for seed 5122 (122/5000) ...\n",
      "Generating image for seed 5123 (123/5000) ...\n",
      "Generating image for seed 5124 (124/5000) ...\n",
      "Generating image for seed 5125 (125/5000) ...\n",
      "Generating image for seed 5126 (126/5000) ...\n",
      "Generating image for seed 5127 (127/5000) ...\n",
      "Generating image for seed 5128 (128/5000) ...\n",
      "Generating image for seed 5129 (129/5000) ...\n",
      "Generating image for seed 5130 (130/5000) ...\n",
      "Generating image for seed 5131 (131/5000) ...\n",
      "Generating image for seed 5132 (132/5000) ...\n",
      "Generating image for seed 5133 (133/5000) ...\n",
      "Generating image for seed 5134 (134/5000) ...\n",
      "Generating image for seed 5135 (135/5000) ...\n",
      "Generating image for seed 5136 (136/5000) ...\n",
      "Generating image for seed 5137 (137/5000) ...\n",
      "Generating image for seed 5138 (138/5000) ...\n",
      "Generating image for seed 5139 (139/5000) ...\n",
      "Generating image for seed 5140 (140/5000) ...\n",
      "Generating image for seed 5141 (141/5000) ...\n",
      "Generating image for seed 5142 (142/5000) ...\n",
      "Generating image for seed 5143 (143/5000) ...\n",
      "Generating image for seed 5144 (144/5000) ...\n",
      "Generating image for seed 5145 (145/5000) ...\n",
      "Generating image for seed 5146 (146/5000) ...\n",
      "Generating image for seed 5147 (147/5000) ...\n",
      "Generating image for seed 5148 (148/5000) ...\n",
      "Generating image for seed 5149 (149/5000) ...\n",
      "Generating image for seed 5150 (150/5000) ...\n",
      "Generating image for seed 5151 (151/5000) ...\n",
      "Generating image for seed 5152 (152/5000) ...\n",
      "Generating image for seed 5153 (153/5000) ...\n",
      "Generating image for seed 5154 (154/5000) ...\n",
      "Generating image for seed 5155 (155/5000) ...\n",
      "Generating image for seed 5156 (156/5000) ...\n",
      "Generating image for seed 5157 (157/5000) ...\n",
      "Generating image for seed 5158 (158/5000) ...\n",
      "Generating image for seed 5159 (159/5000) ...\n",
      "Generating image for seed 5160 (160/5000) ...\n",
      "Generating image for seed 5161 (161/5000) ...\n",
      "Generating image for seed 5162 (162/5000) ...\n",
      "Generating image for seed 5163 (163/5000) ...\n",
      "Generating image for seed 5164 (164/5000) ...\n",
      "Generating image for seed 5165 (165/5000) ...\n",
      "Generating image for seed 5166 (166/5000) ...\n",
      "Generating image for seed 5167 (167/5000) ...\n",
      "Generating image for seed 5168 (168/5000) ...\n",
      "Generating image for seed 5169 (169/5000) ...\n",
      "Generating image for seed 5170 (170/5000) ...\n",
      "Generating image for seed 5171 (171/5000) ...\n",
      "Generating image for seed 5172 (172/5000) ...\n",
      "Generating image for seed 5173 (173/5000) ...\n",
      "Generating image for seed 5174 (174/5000) ...\n",
      "Generating image for seed 5175 (175/5000) ...\n",
      "Generating image for seed 5176 (176/5000) ...\n",
      "Generating image for seed 5177 (177/5000) ...\n",
      "Generating image for seed 5178 (178/5000) ...\n",
      "Generating image for seed 5179 (179/5000) ...\n",
      "Generating image for seed 5180 (180/5000) ...\n",
      "Generating image for seed 5181 (181/5000) ...\n",
      "Generating image for seed 5182 (182/5000) ...\n",
      "Generating image for seed 5183 (183/5000) ...\n",
      "Generating image for seed 5184 (184/5000) ...\n",
      "Generating image for seed 5185 (185/5000) ...\n",
      "Generating image for seed 5186 (186/5000) ...\n",
      "Generating image for seed 5187 (187/5000) ...\n",
      "Generating image for seed 5188 (188/5000) ...\n",
      "Generating image for seed 5189 (189/5000) ...\n",
      "Generating image for seed 5190 (190/5000) ...\n",
      "Generating image for seed 5191 (191/5000) ...\n",
      "Generating image for seed 5192 (192/5000) ...\n",
      "Generating image for seed 5193 (193/5000) ...\n",
      "Generating image for seed 5194 (194/5000) ...\n",
      "Generating image for seed 5195 (195/5000) ...\n",
      "Generating image for seed 5196 (196/5000) ...\n",
      "Generating image for seed 5197 (197/5000) ...\n",
      "Generating image for seed 5198 (198/5000) ...\n",
      "Generating image for seed 5199 (199/5000) ...\n",
      "Generating image for seed 5200 (200/5000) ...\n",
      "Generating image for seed 5201 (201/5000) ...\n",
      "Generating image for seed 5202 (202/5000) ...\n",
      "Generating image for seed 5203 (203/5000) ...\n",
      "Generating image for seed 5204 (204/5000) ...\n",
      "Generating image for seed 5205 (205/5000) ...\n",
      "Generating image for seed 5206 (206/5000) ...\n",
      "Generating image for seed 5207 (207/5000) ...\n",
      "Generating image for seed 5208 (208/5000) ...\n",
      "Generating image for seed 5209 (209/5000) ...\n",
      "Generating image for seed 5210 (210/5000) ...\n",
      "Generating image for seed 5211 (211/5000) ...\n",
      "Generating image for seed 5212 (212/5000) ...\n",
      "Generating image for seed 5213 (213/5000) ...\n",
      "Generating image for seed 5214 (214/5000) ...\n",
      "Generating image for seed 5215 (215/5000) ...\n",
      "Generating image for seed 5216 (216/5000) ...\n",
      "Generating image for seed 5217 (217/5000) ...\n",
      "Generating image for seed 5218 (218/5000) ...\n",
      "Generating image for seed 5219 (219/5000) ...\n",
      "Generating image for seed 5220 (220/5000) ...\n",
      "Generating image for seed 5221 (221/5000) ...\n",
      "Generating image for seed 5222 (222/5000) ...\n",
      "Generating image for seed 5223 (223/5000) ...\n",
      "Generating image for seed 5224 (224/5000) ...\n",
      "Generating image for seed 5225 (225/5000) ...\n",
      "Generating image for seed 5226 (226/5000) ...\n",
      "Generating image for seed 5227 (227/5000) ...\n",
      "Generating image for seed 5228 (228/5000) ...\n",
      "Generating image for seed 5229 (229/5000) ...\n",
      "Generating image for seed 5230 (230/5000) ...\n",
      "Generating image for seed 5231 (231/5000) ...\n",
      "Generating image for seed 5232 (232/5000) ...\n",
      "Generating image for seed 5233 (233/5000) ...\n",
      "Generating image for seed 5234 (234/5000) ...\n",
      "Generating image for seed 5235 (235/5000) ...\n",
      "Generating image for seed 5236 (236/5000) ...\n",
      "Generating image for seed 5237 (237/5000) ...\n",
      "Generating image for seed 5238 (238/5000) ...\n",
      "Generating image for seed 5239 (239/5000) ...\n",
      "Generating image for seed 5240 (240/5000) ...\n",
      "Generating image for seed 5241 (241/5000) ...\n",
      "Generating image for seed 5242 (242/5000) ...\n",
      "Generating image for seed 5243 (243/5000) ...\n",
      "Generating image for seed 5244 (244/5000) ...\n",
      "Generating image for seed 5245 (245/5000) ...\n",
      "Generating image for seed 5246 (246/5000) ...\n",
      "Generating image for seed 5247 (247/5000) ...\n",
      "Generating image for seed 5248 (248/5000) ...\n",
      "Generating image for seed 5249 (249/5000) ...\n",
      "Generating image for seed 5250 (250/5000) ...\n",
      "Generating image for seed 5251 (251/5000) ...\n",
      "Generating image for seed 5252 (252/5000) ...\n",
      "Generating image for seed 5253 (253/5000) ...\n",
      "Generating image for seed 5254 (254/5000) ...\n",
      "Generating image for seed 5255 (255/5000) ...\n",
      "Generating image for seed 5256 (256/5000) ...\n",
      "Generating image for seed 5257 (257/5000) ...\n",
      "Generating image for seed 5258 (258/5000) ...\n",
      "Generating image for seed 5259 (259/5000) ...\n",
      "Generating image for seed 5260 (260/5000) ...\n",
      "Generating image for seed 5261 (261/5000) ...\n",
      "Generating image for seed 5262 (262/5000) ...\n",
      "Generating image for seed 5263 (263/5000) ...\n",
      "Generating image for seed 5264 (264/5000) ...\n",
      "Generating image for seed 5265 (265/5000) ...\n",
      "Generating image for seed 5266 (266/5000) ...\n",
      "Generating image for seed 5267 (267/5000) ...\n",
      "Generating image for seed 5268 (268/5000) ...\n",
      "Generating image for seed 5269 (269/5000) ...\n",
      "Generating image for seed 5270 (270/5000) ...\n",
      "Generating image for seed 5271 (271/5000) ...\n",
      "Generating image for seed 5272 (272/5000) ...\n",
      "Generating image for seed 5273 (273/5000) ...\n",
      "Generating image for seed 5274 (274/5000) ...\n",
      "Generating image for seed 5275 (275/5000) ...\n",
      "Generating image for seed 5276 (276/5000) ...\n",
      "Generating image for seed 5277 (277/5000) ...\n",
      "Generating image for seed 5278 (278/5000) ...\n",
      "Generating image for seed 5279 (279/5000) ...\n",
      "Generating image for seed 5280 (280/5000) ..."
     ]
    }
   ],
   "source": [
    "#Create a library of 1000 images based on random seeds\n",
    "\n",
    "#!python generate.py --outdir=./bone_leaf/bw_1000/images/ --trunc=1.0 --seeds=0-1000 --network=./bone_leaf/network-snapshot-bw-001240.pkl\n",
    "\n",
    "#!python generate.py --outdir=./bone_leaf/equalized_1000_6960/images/ --trunc=1.0 --seeds=0-1000 --network=./bone_leaf/network-snapshot-equalized-006960.pkl\n",
    "\n",
    "!python generate.py --outdir=./MD/5000-6000/images/ --trunc=1.0 --seeds=5000-9999 --network=./leaf-network-snapshot.pkl\n"
   ]
  },
  {
   "cell_type": "code",
   "execution_count": 9,
   "metadata": {
    "scrolled": true
   },
   "outputs": [
    {
     "name": "stdout",
     "output_type": "stream",
     "text": [
      "111-111.png\n",
      "Thickening resulting structure using dilation...iterations:  2\n",
      "number white:  41720 density:  0.6365966796875\n",
      "111-139.png\n",
      "Thickening resulting structure using dilation...iterations:  2\n",
      "number white:  35184 density:  0.536865234375\n",
      "139-139.png\n",
      "Thickening resulting structure using dilation...iterations:  2\n",
      "number white:  22892 density:  0.34930419921875\n",
      "139-540.png\n",
      "Thickening resulting structure using dilation...iterations:  2\n",
      "number white:  22616 density:  0.3450927734375\n",
      "540-540.png\n",
      "Thickening resulting structure using dilation...iterations:  2\n",
      "number white:  48012 density:  0.73260498046875\n",
      "87-87.png\n",
      "Thickening resulting structure using dilation...iterations:  2\n",
      "number white:  29352 density:  0.4478759765625\n",
      "Picture2.png\n",
      "Thickening resulting structure using dilation...iterations:  2\n",
      "number white:  19256 density:  0.2938232421875\n",
      "Picture3.png\n",
      "Thickening resulting structure using dilation...iterations:  2\n",
      "number white:  29128 density:  0.4444580078125\n",
      "Picture4.png\n",
      "Thickening resulting structure using dilation...iterations:  2\n",
      "number white:  27100 density:  0.41351318359375\n",
      "unit\n"
     ]
    }
   ],
   "source": [
    "# Process images into unit cells\n",
    "#Use mirrorcopy>1 to create larger-area architectures with repeated unit cells\n",
    "\n",
    "#path='./bone_leaf/equalized_1000_6960/images/'\n",
    "#dest='./bone_leaf/equalized_1000_6960/unit/'\n",
    "\n",
    "path='./bone_leaf/style_mixing/test/'\n",
    "dest='./bone_leaf/style_mixing/test/unit/'\n",
    "\n",
    "names, seeds, density=ImageTools.remove_small (path, dest, 20000, 1024,mirrorcopy=1, ressfinal=256, filt1=32, thicken=2, rect=0)"
   ]
  },
  {
   "cell_type": "code",
   "execution_count": 9,
   "metadata": {
    "scrolled": true
   },
   "outputs": [
    {
     "name": "stderr",
     "output_type": "stream",
     "text": [
      "C:\\Users\\sabri\\.conda\\envs\\stylegan2\\lib\\site-packages\\seaborn\\distributions.py:2551: FutureWarning: `distplot` is a deprecated function and will be removed in a future version. Please adapt your code to use either `displot` (a figure-level function with similar flexibility) or `histplot` (an axes-level function for histograms).\n",
      "  warnings.warn(msg, FutureWarning)\n"
     ]
    },
    {
     "data": {
      "text/plain": [
       "[Text(0.5, 0, 'Density'), Text(0, 0.5, 'Count')]"
      ]
     },
     "execution_count": 9,
     "metadata": {},
     "output_type": "execute_result"
    },
    {
     "data": {
      "image/png": "[encoded data removed]",
      "text/plain": [
       "<Figure size 432x288 with 1 Axes>"
      ]
     },
     "metadata": {
      "needs_background": "light"
     },
     "output_type": "display_data"
    }
   ],
   "source": [
    "#Density data\n",
    "\n",
    "maxindex = np.argmax(density)\n",
    "minindex = np.argmin(density)\n",
    "\n",
    "dens=np.asarray(np.stack((np.asarray(density),np.asarray(seeds)), axis=1))\n",
    "dens_df=pd.DataFrame(dens, columns=['Density', 'Seed'])\n",
    "\n",
    "# seaborn histogram\n",
    "h=sns.distplot(density, hist=True, kde=True, \n",
    "             bins=50, color = 'blue',\n",
    "             hist_kws={'edgecolor':'black'},kde_kws={'linewidth': 2})\n",
    "h.set(xlabel=\"Density\", ylabel=\"Count\")"
   ]
  },
  {
   "cell_type": "code",
   "execution_count": 15,
   "metadata": {},
   "outputs": [],
   "source": [
    "df = pd.DataFrame(density) \n",
    "    \n",
    "# saving the dataframe \n",
    "df.to_csv('./MD/5000-6000/density.csv', header=['density'], index_label=['unit'] ) "
   ]
  },
  {
   "cell_type": "markdown",
   "metadata": {},
   "source": [
    "# Generate gradients"
   ]
  },
  {
   "cell_type": "code",
   "execution_count": null,
   "metadata": {},
   "outputs": [],
   "source": [
    "#generate from points in CSV file\n",
    "\n",
    "#use frames for number of steps between points in the CSV file; more frames=smoother interpolation\n",
    "!python generate.py --outdir=./output_leaf/gradient/frames/ --trunc=.7 --process=\"interpolation\" --interpolation=\"2Dpoint_CSV\" --csvfile=./gradient.csv --frames=40 --random_seed=0 --seeds=441,593,863 --network=./leaf-network-snapshot.pkl \n",
    "\n",
    "#process into unit cells\n",
    "path = \"./output_leaf/gradient/frames/\" \n",
    "dest=\"./output_leaf/gradient/processed/\"\n",
    "\n",
    "names, seeds, density=remove_small (path, dest, 30000, 1024,mirrorcopy=1, ressfinal=512, filt1=32, thicken=2, rect=0)"
   ]
  },
  {
   "cell_type": "code",
   "execution_count": null,
   "metadata": {},
   "outputs": [],
   "source": [
    "#now stack in x-y\n",
    "path =\"./output_leaf/gradient/processed/\"\n",
    "dest =\"./output_leaf/gradient/stack/\"\n",
    "\n",
    "stack_xy(path, dest, ress=96, mirrorcopy=0, ressfinal=1024, xcopy=0, ycopy=4, dir=1, thicken=0, rect=0) "
   ]
  },
  {
   "cell_type": "code",
   "execution_count": 11,
   "metadata": {},
   "outputs": [
    {
     "name": "stdout",
     "output_type": "stream",
     "text": [
      "found 512 images. ['./output_leaf/gradient/processed_3d\\\\0.png', './output_leaf/gradient/processed_3d\\\\1.png', './output_leaf/gradient/processed_3d\\\\2.png', './output_leaf/gradient/processed_3d\\\\3.png', './output_leaf/gradient/processed_3d\\\\4.png', './output_leaf/gradient/processed_3d\\\\5.png', './output_leaf/gradient/processed_3d\\\\6.png', './output_leaf/gradient/processed_3d\\\\7.png', './output_leaf/gradient/processed_3d\\\\8.png', './output_leaf/gradient/processed_3d\\\\9.png', './output_leaf/gradient/processed_3d\\\\10.png', './output_leaf/gradient/processed_3d\\\\11.png', './output_leaf/gradient/processed_3d\\\\12.png', './output_leaf/gradient/processed_3d\\\\13.png', './output_leaf/gradient/processed_3d\\\\14.png', './output_leaf/gradient/processed_3d\\\\15.png', './output_leaf/gradient/processed_3d\\\\16.png', './output_leaf/gradient/processed_3d\\\\17.png', './output_leaf/gradient/processed_3d\\\\18.png', './output_leaf/gradient/processed_3d\\\\19.png', './output_leaf/gradient/processed_3d\\\\20.png', './output_leaf/gradient/processed_3d\\\\21.png', './output_leaf/gradient/processed_3d\\\\22.png', './output_leaf/gradient/processed_3d\\\\23.png', './output_leaf/gradient/processed_3d\\\\24.png', './output_leaf/gradient/processed_3d\\\\25.png', './output_leaf/gradient/processed_3d\\\\26.png', './output_leaf/gradient/processed_3d\\\\27.png', './output_leaf/gradient/processed_3d\\\\28.png', './output_leaf/gradient/processed_3d\\\\29.png', './output_leaf/gradient/processed_3d\\\\30.png', './output_leaf/gradient/processed_3d\\\\31.png', './output_leaf/gradient/processed_3d\\\\32.png', './output_leaf/gradient/processed_3d\\\\33.png', './output_leaf/gradient/processed_3d\\\\34.png', './output_leaf/gradient/processed_3d\\\\35.png', './output_leaf/gradient/processed_3d\\\\36.png', './output_leaf/gradient/processed_3d\\\\37.png', './output_leaf/gradient/processed_3d\\\\38.png', './output_leaf/gradient/processed_3d\\\\39.png', './output_leaf/gradient/processed_3d\\\\40.png', './output_leaf/gradient/processed_3d\\\\41.png', './output_leaf/gradient/processed_3d\\\\42.png', './output_leaf/gradient/processed_3d\\\\43.png', './output_leaf/gradient/processed_3d\\\\44.png', './output_leaf/gradient/processed_3d\\\\45.png', './output_leaf/gradient/processed_3d\\\\46.png', './output_leaf/gradient/processed_3d\\\\47.png', './output_leaf/gradient/processed_3d\\\\48.png', './output_leaf/gradient/processed_3d\\\\49.png', './output_leaf/gradient/processed_3d\\\\50.png', './output_leaf/gradient/processed_3d\\\\51.png', './output_leaf/gradient/processed_3d\\\\52.png', './output_leaf/gradient/processed_3d\\\\53.png', './output_leaf/gradient/processed_3d\\\\54.png', './output_leaf/gradient/processed_3d\\\\55.png', './output_leaf/gradient/processed_3d\\\\56.png', './output_leaf/gradient/processed_3d\\\\57.png', './output_leaf/gradient/processed_3d\\\\58.png', './output_leaf/gradient/processed_3d\\\\59.png', './output_leaf/gradient/processed_3d\\\\60.png', './output_leaf/gradient/processed_3d\\\\61.png', './output_leaf/gradient/processed_3d\\\\62.png', './output_leaf/gradient/processed_3d\\\\63.png', './output_leaf/gradient/processed_3d\\\\64.png', './output_leaf/gradient/processed_3d\\\\65.png', './output_leaf/gradient/processed_3d\\\\66.png', './output_leaf/gradient/processed_3d\\\\67.png', './output_leaf/gradient/processed_3d\\\\68.png', './output_leaf/gradient/processed_3d\\\\69.png', './output_leaf/gradient/processed_3d\\\\70.png', './output_leaf/gradient/processed_3d\\\\71.png', './output_leaf/gradient/processed_3d\\\\72.png', './output_leaf/gradient/processed_3d\\\\73.png', './output_leaf/gradient/processed_3d\\\\74.png', './output_leaf/gradient/processed_3d\\\\75.png', './output_leaf/gradient/processed_3d\\\\76.png', './output_leaf/gradient/processed_3d\\\\77.png', './output_leaf/gradient/processed_3d\\\\78.png', './output_leaf/gradient/processed_3d\\\\79.png', './output_leaf/gradient/processed_3d\\\\80.png', './output_leaf/gradient/processed_3d\\\\81.png', './output_leaf/gradient/processed_3d\\\\82.png', './output_leaf/gradient/processed_3d\\\\83.png', './output_leaf/gradient/processed_3d\\\\84.png', './output_leaf/gradient/processed_3d\\\\85.png', './output_leaf/gradient/processed_3d\\\\86.png', './output_leaf/gradient/processed_3d\\\\87.png', './output_leaf/gradient/processed_3d\\\\88.png', './output_leaf/gradient/processed_3d\\\\89.png', './output_leaf/gradient/processed_3d\\\\90.png', './output_leaf/gradient/processed_3d\\\\91.png', './output_leaf/gradient/processed_3d\\\\92.png', './output_leaf/gradient/processed_3d\\\\93.png', './output_leaf/gradient/processed_3d\\\\94.png', './output_leaf/gradient/processed_3d\\\\95.png', './output_leaf/gradient/processed_3d\\\\96.png', './output_leaf/gradient/processed_3d\\\\97.png', './output_leaf/gradient/processed_3d\\\\98.png', './output_leaf/gradient/processed_3d\\\\99.png', './output_leaf/gradient/processed_3d\\\\100.png', './output_leaf/gradient/processed_3d\\\\101.png', './output_leaf/gradient/processed_3d\\\\102.png', './output_leaf/gradient/processed_3d\\\\103.png', './output_leaf/gradient/processed_3d\\\\104.png', './output_leaf/gradient/processed_3d\\\\105.png', './output_leaf/gradient/processed_3d\\\\106.png', './output_leaf/gradient/processed_3d\\\\107.png', './output_leaf/gradient/processed_3d\\\\108.png', './output_leaf/gradient/processed_3d\\\\109.png', './output_leaf/gradient/processed_3d\\\\110.png', './output_leaf/gradient/processed_3d\\\\111.png', './output_leaf/gradient/processed_3d\\\\112.png', './output_leaf/gradient/processed_3d\\\\113.png', './output_leaf/gradient/processed_3d\\\\114.png', './output_leaf/gradient/processed_3d\\\\115.png', './output_leaf/gradient/processed_3d\\\\116.png', './output_leaf/gradient/processed_3d\\\\117.png', './output_leaf/gradient/processed_3d\\\\118.png', './output_leaf/gradient/processed_3d\\\\119.png', './output_leaf/gradient/processed_3d\\\\120.png', './output_leaf/gradient/processed_3d\\\\121.png', './output_leaf/gradient/processed_3d\\\\122.png', './output_leaf/gradient/processed_3d\\\\123.png', './output_leaf/gradient/processed_3d\\\\124.png', './output_leaf/gradient/processed_3d\\\\125.png', './output_leaf/gradient/processed_3d\\\\126.png', './output_leaf/gradient/processed_3d\\\\127.png', './output_leaf/gradient/processed_3d\\\\128.png', './output_leaf/gradient/processed_3d\\\\129.png', './output_leaf/gradient/processed_3d\\\\130.png', './output_leaf/gradient/processed_3d\\\\131.png', './output_leaf/gradient/processed_3d\\\\132.png', './output_leaf/gradient/processed_3d\\\\133.png', './output_leaf/gradient/processed_3d\\\\134.png', './output_leaf/gradient/processed_3d\\\\135.png', './output_leaf/gradient/processed_3d\\\\136.png', './output_leaf/gradient/processed_3d\\\\137.png', './output_leaf/gradient/processed_3d\\\\138.png', './output_leaf/gradient/processed_3d\\\\139.png', './output_leaf/gradient/processed_3d\\\\140.png', './output_leaf/gradient/processed_3d\\\\141.png', './output_leaf/gradient/processed_3d\\\\142.png', './output_leaf/gradient/processed_3d\\\\143.png', './output_leaf/gradient/processed_3d\\\\144.png', './output_leaf/gradient/processed_3d\\\\145.png', './output_leaf/gradient/processed_3d\\\\146.png', './output_leaf/gradient/processed_3d\\\\147.png', './output_leaf/gradient/processed_3d\\\\148.png', './output_leaf/gradient/processed_3d\\\\149.png', './output_leaf/gradient/processed_3d\\\\150.png', './output_leaf/gradient/processed_3d\\\\151.png', './output_leaf/gradient/processed_3d\\\\152.png', './output_leaf/gradient/processed_3d\\\\153.png', './output_leaf/gradient/processed_3d\\\\154.png', './output_leaf/gradient/processed_3d\\\\155.png', './output_leaf/gradient/processed_3d\\\\156.png', './output_leaf/gradient/processed_3d\\\\157.png', './output_leaf/gradient/processed_3d\\\\158.png', './output_leaf/gradient/processed_3d\\\\159.png', './output_leaf/gradient/processed_3d\\\\160.png', './output_leaf/gradient/processed_3d\\\\161.png', './output_leaf/gradient/processed_3d\\\\162.png', './output_leaf/gradient/processed_3d\\\\163.png', './output_leaf/gradient/processed_3d\\\\164.png', './output_leaf/gradient/processed_3d\\\\165.png', './output_leaf/gradient/processed_3d\\\\166.png', './output_leaf/gradient/processed_3d\\\\167.png', './output_leaf/gradient/processed_3d\\\\168.png', './output_leaf/gradient/processed_3d\\\\169.png', './output_leaf/gradient/processed_3d\\\\170.png', './output_leaf/gradient/processed_3d\\\\171.png', './output_leaf/gradient/processed_3d\\\\172.png', './output_leaf/gradient/processed_3d\\\\173.png', './output_leaf/gradient/processed_3d\\\\174.png', './output_leaf/gradient/processed_3d\\\\175.png', './output_leaf/gradient/processed_3d\\\\176.png', './output_leaf/gradient/processed_3d\\\\177.png', './output_leaf/gradient/processed_3d\\\\178.png', './output_leaf/gradient/processed_3d\\\\179.png', './output_leaf/gradient/processed_3d\\\\180.png', './output_leaf/gradient/processed_3d\\\\181.png', './output_leaf/gradient/processed_3d\\\\182.png', './output_leaf/gradient/processed_3d\\\\183.png', './output_leaf/gradient/processed_3d\\\\184.png', './output_leaf/gradient/processed_3d\\\\185.png', './output_leaf/gradient/processed_3d\\\\186.png', './output_leaf/gradient/processed_3d\\\\187.png', './output_leaf/gradient/processed_3d\\\\188.png', './output_leaf/gradient/processed_3d\\\\189.png', './output_leaf/gradient/processed_3d\\\\190.png', './output_leaf/gradient/processed_3d\\\\191.png', './output_leaf/gradient/processed_3d\\\\192.png', './output_leaf/gradient/processed_3d\\\\193.png', './output_leaf/gradient/processed_3d\\\\194.png', './output_leaf/gradient/processed_3d\\\\195.png', './output_leaf/gradient/processed_3d\\\\196.png', './output_leaf/gradient/processed_3d\\\\197.png', './output_leaf/gradient/processed_3d\\\\198.png', './output_leaf/gradient/processed_3d\\\\199.png', './output_leaf/gradient/processed_3d\\\\200.png', './output_leaf/gradient/processed_3d\\\\201.png', './output_leaf/gradient/processed_3d\\\\202.png', './output_leaf/gradient/processed_3d\\\\203.png', './output_leaf/gradient/processed_3d\\\\204.png', './output_leaf/gradient/processed_3d\\\\205.png', './output_leaf/gradient/processed_3d\\\\206.png', './output_leaf/gradient/processed_3d\\\\207.png', './output_leaf/gradient/processed_3d\\\\208.png', './output_leaf/gradient/processed_3d\\\\209.png', './output_leaf/gradient/processed_3d\\\\210.png', './output_leaf/gradient/processed_3d\\\\211.png', './output_leaf/gradient/processed_3d\\\\212.png', './output_leaf/gradient/processed_3d\\\\213.png', './output_leaf/gradient/processed_3d\\\\214.png', './output_leaf/gradient/processed_3d\\\\215.png', './output_leaf/gradient/processed_3d\\\\216.png', './output_leaf/gradient/processed_3d\\\\217.png', './output_leaf/gradient/processed_3d\\\\218.png', './output_leaf/gradient/processed_3d\\\\219.png', './output_leaf/gradient/processed_3d\\\\220.png', './output_leaf/gradient/processed_3d\\\\221.png', './output_leaf/gradient/processed_3d\\\\222.png', './output_leaf/gradient/processed_3d\\\\223.png', './output_leaf/gradient/processed_3d\\\\224.png', './output_leaf/gradient/processed_3d\\\\225.png', './output_leaf/gradient/processed_3d\\\\226.png', './output_leaf/gradient/processed_3d\\\\227.png', './output_leaf/gradient/processed_3d\\\\228.png', './output_leaf/gradient/processed_3d\\\\229.png', './output_leaf/gradient/processed_3d\\\\230.png', './output_leaf/gradient/processed_3d\\\\231.png', './output_leaf/gradient/processed_3d\\\\232.png', './output_leaf/gradient/processed_3d\\\\233.png', './output_leaf/gradient/processed_3d\\\\234.png', './output_leaf/gradient/processed_3d\\\\235.png', './output_leaf/gradient/processed_3d\\\\236.png', './output_leaf/gradient/processed_3d\\\\237.png', './output_leaf/gradient/processed_3d\\\\238.png', './output_leaf/gradient/processed_3d\\\\239.png', './output_leaf/gradient/processed_3d\\\\240.png', './output_leaf/gradient/processed_3d\\\\241.png', './output_leaf/gradient/processed_3d\\\\242.png', './output_leaf/gradient/processed_3d\\\\243.png', './output_leaf/gradient/processed_3d\\\\244.png', './output_leaf/gradient/processed_3d\\\\245.png', './output_leaf/gradient/processed_3d\\\\246.png', './output_leaf/gradient/processed_3d\\\\247.png', './output_leaf/gradient/processed_3d\\\\248.png', './output_leaf/gradient/processed_3d\\\\249.png', './output_leaf/gradient/processed_3d\\\\250.png', './output_leaf/gradient/processed_3d\\\\251.png', './output_leaf/gradient/processed_3d\\\\252.png', './output_leaf/gradient/processed_3d\\\\253.png', './output_leaf/gradient/processed_3d\\\\254.png', './output_leaf/gradient/processed_3d\\\\255.png', './output_leaf/gradient/processed_3d\\\\256.png', './output_leaf/gradient/processed_3d\\\\257.png', './output_leaf/gradient/processed_3d\\\\258.png', './output_leaf/gradient/processed_3d\\\\259.png', './output_leaf/gradient/processed_3d\\\\260.png', './output_leaf/gradient/processed_3d\\\\261.png', './output_leaf/gradient/processed_3d\\\\262.png', './output_leaf/gradient/processed_3d\\\\263.png', './output_leaf/gradient/processed_3d\\\\264.png', './output_leaf/gradient/processed_3d\\\\265.png', './output_leaf/gradient/processed_3d\\\\266.png', './output_leaf/gradient/processed_3d\\\\267.png', './output_leaf/gradient/processed_3d\\\\268.png', './output_leaf/gradient/processed_3d\\\\269.png', './output_leaf/gradient/processed_3d\\\\270.png', './output_leaf/gradient/processed_3d\\\\271.png', './output_leaf/gradient/processed_3d\\\\272.png', './output_leaf/gradient/processed_3d\\\\273.png', './output_leaf/gradient/processed_3d\\\\274.png', './output_leaf/gradient/processed_3d\\\\275.png', './output_leaf/gradient/processed_3d\\\\276.png', './output_leaf/gradient/processed_3d\\\\277.png', './output_leaf/gradient/processed_3d\\\\278.png', './output_leaf/gradient/processed_3d\\\\279.png', './output_leaf/gradient/processed_3d\\\\280.png', './output_leaf/gradient/processed_3d\\\\281.png', './output_leaf/gradient/processed_3d\\\\282.png', './output_leaf/gradient/processed_3d\\\\283.png', './output_leaf/gradient/processed_3d\\\\284.png', './output_leaf/gradient/processed_3d\\\\285.png', './output_leaf/gradient/processed_3d\\\\286.png', './output_leaf/gradient/processed_3d\\\\287.png', './output_leaf/gradient/processed_3d\\\\288.png', './output_leaf/gradient/processed_3d\\\\289.png', './output_leaf/gradient/processed_3d\\\\290.png', './output_leaf/gradient/processed_3d\\\\291.png', './output_leaf/gradient/processed_3d\\\\292.png', './output_leaf/gradient/processed_3d\\\\293.png', './output_leaf/gradient/processed_3d\\\\294.png', './output_leaf/gradient/processed_3d\\\\295.png', './output_leaf/gradient/processed_3d\\\\296.png', './output_leaf/gradient/processed_3d\\\\297.png', './output_leaf/gradient/processed_3d\\\\298.png', './output_leaf/gradient/processed_3d\\\\299.png', './output_leaf/gradient/processed_3d\\\\300.png', './output_leaf/gradient/processed_3d\\\\301.png', './output_leaf/gradient/processed_3d\\\\302.png', './output_leaf/gradient/processed_3d\\\\303.png', './output_leaf/gradient/processed_3d\\\\304.png', './output_leaf/gradient/processed_3d\\\\305.png', './output_leaf/gradient/processed_3d\\\\306.png', './output_leaf/gradient/processed_3d\\\\307.png', './output_leaf/gradient/processed_3d\\\\308.png', './output_leaf/gradient/processed_3d\\\\309.png', './output_leaf/gradient/processed_3d\\\\310.png', './output_leaf/gradient/processed_3d\\\\311.png', './output_leaf/gradient/processed_3d\\\\312.png', './output_leaf/gradient/processed_3d\\\\313.png', './output_leaf/gradient/processed_3d\\\\314.png', './output_leaf/gradient/processed_3d\\\\315.png', './output_leaf/gradient/processed_3d\\\\316.png', './output_leaf/gradient/processed_3d\\\\317.png', './output_leaf/gradient/processed_3d\\\\318.png', './output_leaf/gradient/processed_3d\\\\319.png', './output_leaf/gradient/processed_3d\\\\320.png', './output_leaf/gradient/processed_3d\\\\321.png', './output_leaf/gradient/processed_3d\\\\322.png', './output_leaf/gradient/processed_3d\\\\323.png', './output_leaf/gradient/processed_3d\\\\324.png', './output_leaf/gradient/processed_3d\\\\325.png', './output_leaf/gradient/processed_3d\\\\326.png', './output_leaf/gradient/processed_3d\\\\327.png', './output_leaf/gradient/processed_3d\\\\328.png', './output_leaf/gradient/processed_3d\\\\329.png', './output_leaf/gradient/processed_3d\\\\330.png', './output_leaf/gradient/processed_3d\\\\331.png', './output_leaf/gradient/processed_3d\\\\332.png', './output_leaf/gradient/processed_3d\\\\333.png', './output_leaf/gradient/processed_3d\\\\334.png', './output_leaf/gradient/processed_3d\\\\335.png', './output_leaf/gradient/processed_3d\\\\336.png', './output_leaf/gradient/processed_3d\\\\337.png', './output_leaf/gradient/processed_3d\\\\338.png', './output_leaf/gradient/processed_3d\\\\339.png', './output_leaf/gradient/processed_3d\\\\340.png', './output_leaf/gradient/processed_3d\\\\341.png', './output_leaf/gradient/processed_3d\\\\342.png', './output_leaf/gradient/processed_3d\\\\343.png', './output_leaf/gradient/processed_3d\\\\344.png', './output_leaf/gradient/processed_3d\\\\345.png', './output_leaf/gradient/processed_3d\\\\346.png', './output_leaf/gradient/processed_3d\\\\347.png', './output_leaf/gradient/processed_3d\\\\348.png', './output_leaf/gradient/processed_3d\\\\349.png', './output_leaf/gradient/processed_3d\\\\350.png', './output_leaf/gradient/processed_3d\\\\351.png', './output_leaf/gradient/processed_3d\\\\352.png', './output_leaf/gradient/processed_3d\\\\353.png', './output_leaf/gradient/processed_3d\\\\354.png', './output_leaf/gradient/processed_3d\\\\355.png', './output_leaf/gradient/processed_3d\\\\356.png', './output_leaf/gradient/processed_3d\\\\357.png', './output_leaf/gradient/processed_3d\\\\358.png', './output_leaf/gradient/processed_3d\\\\359.png', './output_leaf/gradient/processed_3d\\\\360.png', './output_leaf/gradient/processed_3d\\\\361.png', './output_leaf/gradient/processed_3d\\\\362.png', './output_leaf/gradient/processed_3d\\\\363.png', './output_leaf/gradient/processed_3d\\\\364.png', './output_leaf/gradient/processed_3d\\\\365.png', './output_leaf/gradient/processed_3d\\\\366.png', './output_leaf/gradient/processed_3d\\\\367.png', './output_leaf/gradient/processed_3d\\\\368.png', './output_leaf/gradient/processed_3d\\\\369.png', './output_leaf/gradient/processed_3d\\\\370.png', './output_leaf/gradient/processed_3d\\\\371.png', './output_leaf/gradient/processed_3d\\\\372.png', './output_leaf/gradient/processed_3d\\\\373.png', './output_leaf/gradient/processed_3d\\\\374.png', './output_leaf/gradient/processed_3d\\\\375.png', './output_leaf/gradient/processed_3d\\\\376.png', './output_leaf/gradient/processed_3d\\\\377.png', './output_leaf/gradient/processed_3d\\\\378.png', './output_leaf/gradient/processed_3d\\\\379.png', './output_leaf/gradient/processed_3d\\\\380.png', './output_leaf/gradient/processed_3d\\\\381.png', './output_leaf/gradient/processed_3d\\\\382.png', './output_leaf/gradient/processed_3d\\\\383.png', './output_leaf/gradient/processed_3d\\\\384.png', './output_leaf/gradient/processed_3d\\\\385.png', './output_leaf/gradient/processed_3d\\\\386.png', './output_leaf/gradient/processed_3d\\\\387.png', './output_leaf/gradient/processed_3d\\\\388.png', './output_leaf/gradient/processed_3d\\\\389.png', './output_leaf/gradient/processed_3d\\\\390.png', './output_leaf/gradient/processed_3d\\\\391.png', './output_leaf/gradient/processed_3d\\\\392.png', './output_leaf/gradient/processed_3d\\\\393.png', './output_leaf/gradient/processed_3d\\\\394.png', './output_leaf/gradient/processed_3d\\\\395.png', './output_leaf/gradient/processed_3d\\\\396.png', './output_leaf/gradient/processed_3d\\\\397.png', './output_leaf/gradient/processed_3d\\\\398.png', './output_leaf/gradient/processed_3d\\\\399.png', './output_leaf/gradient/processed_3d\\\\400.png', './output_leaf/gradient/processed_3d\\\\401.png', './output_leaf/gradient/processed_3d\\\\402.png', './output_leaf/gradient/processed_3d\\\\403.png', './output_leaf/gradient/processed_3d\\\\404.png', './output_leaf/gradient/processed_3d\\\\405.png', './output_leaf/gradient/processed_3d\\\\406.png', './output_leaf/gradient/processed_3d\\\\407.png', './output_leaf/gradient/processed_3d\\\\408.png', './output_leaf/gradient/processed_3d\\\\409.png', './output_leaf/gradient/processed_3d\\\\410.png', './output_leaf/gradient/processed_3d\\\\411.png', './output_leaf/gradient/processed_3d\\\\412.png', './output_leaf/gradient/processed_3d\\\\413.png', './output_leaf/gradient/processed_3d\\\\414.png', './output_leaf/gradient/processed_3d\\\\415.png', './output_leaf/gradient/processed_3d\\\\416.png', './output_leaf/gradient/processed_3d\\\\417.png', './output_leaf/gradient/processed_3d\\\\418.png', './output_leaf/gradient/processed_3d\\\\419.png', './output_leaf/gradient/processed_3d\\\\420.png', './output_leaf/gradient/processed_3d\\\\421.png', './output_leaf/gradient/processed_3d\\\\422.png', './output_leaf/gradient/processed_3d\\\\423.png', './output_leaf/gradient/processed_3d\\\\424.png', './output_leaf/gradient/processed_3d\\\\425.png', './output_leaf/gradient/processed_3d\\\\426.png', './output_leaf/gradient/processed_3d\\\\427.png', './output_leaf/gradient/processed_3d\\\\428.png', './output_leaf/gradient/processed_3d\\\\429.png', './output_leaf/gradient/processed_3d\\\\430.png', './output_leaf/gradient/processed_3d\\\\431.png', './output_leaf/gradient/processed_3d\\\\432.png', './output_leaf/gradient/processed_3d\\\\433.png', './output_leaf/gradient/processed_3d\\\\434.png', './output_leaf/gradient/processed_3d\\\\435.png', './output_leaf/gradient/processed_3d\\\\436.png', './output_leaf/gradient/processed_3d\\\\437.png', './output_leaf/gradient/processed_3d\\\\438.png', './output_leaf/gradient/processed_3d\\\\439.png', './output_leaf/gradient/processed_3d\\\\440.png', './output_leaf/gradient/processed_3d\\\\441.png', './output_leaf/gradient/processed_3d\\\\442.png', './output_leaf/gradient/processed_3d\\\\443.png', './output_leaf/gradient/processed_3d\\\\444.png', './output_leaf/gradient/processed_3d\\\\445.png', './output_leaf/gradient/processed_3d\\\\446.png', './output_leaf/gradient/processed_3d\\\\447.png', './output_leaf/gradient/processed_3d\\\\448.png', './output_leaf/gradient/processed_3d\\\\449.png', './output_leaf/gradient/processed_3d\\\\450.png', './output_leaf/gradient/processed_3d\\\\451.png', './output_leaf/gradient/processed_3d\\\\452.png', './output_leaf/gradient/processed_3d\\\\453.png', './output_leaf/gradient/processed_3d\\\\454.png', './output_leaf/gradient/processed_3d\\\\455.png', './output_leaf/gradient/processed_3d\\\\456.png', './output_leaf/gradient/processed_3d\\\\457.png', './output_leaf/gradient/processed_3d\\\\458.png', './output_leaf/gradient/processed_3d\\\\459.png', './output_leaf/gradient/processed_3d\\\\460.png', './output_leaf/gradient/processed_3d\\\\461.png', './output_leaf/gradient/processed_3d\\\\462.png', './output_leaf/gradient/processed_3d\\\\463.png', './output_leaf/gradient/processed_3d\\\\464.png', './output_leaf/gradient/processed_3d\\\\465.png', './output_leaf/gradient/processed_3d\\\\466.png', './output_leaf/gradient/processed_3d\\\\467.png', './output_leaf/gradient/processed_3d\\\\468.png', './output_leaf/gradient/processed_3d\\\\469.png', './output_leaf/gradient/processed_3d\\\\470.png', './output_leaf/gradient/processed_3d\\\\471.png', './output_leaf/gradient/processed_3d\\\\472.png', './output_leaf/gradient/processed_3d\\\\473.png', './output_leaf/gradient/processed_3d\\\\474.png', './output_leaf/gradient/processed_3d\\\\475.png', './output_leaf/gradient/processed_3d\\\\476.png', './output_leaf/gradient/processed_3d\\\\477.png', './output_leaf/gradient/processed_3d\\\\478.png', './output_leaf/gradient/processed_3d\\\\479.png', './output_leaf/gradient/processed_3d\\\\480.png', './output_leaf/gradient/processed_3d\\\\481.png', './output_leaf/gradient/processed_3d\\\\482.png', './output_leaf/gradient/processed_3d\\\\483.png', './output_leaf/gradient/processed_3d\\\\484.png', './output_leaf/gradient/processed_3d\\\\485.png', './output_leaf/gradient/processed_3d\\\\486.png', './output_leaf/gradient/processed_3d\\\\487.png', './output_leaf/gradient/processed_3d\\\\488.png', './output_leaf/gradient/processed_3d\\\\489.png', './output_leaf/gradient/processed_3d\\\\490.png', './output_leaf/gradient/processed_3d\\\\491.png', './output_leaf/gradient/processed_3d\\\\492.png', './output_leaf/gradient/processed_3d\\\\493.png', './output_leaf/gradient/processed_3d\\\\494.png', './output_leaf/gradient/processed_3d\\\\495.png', './output_leaf/gradient/processed_3d\\\\496.png', './output_leaf/gradient/processed_3d\\\\497.png', './output_leaf/gradient/processed_3d\\\\498.png', './output_leaf/gradient/processed_3d\\\\499.png', './output_leaf/gradient/processed_3d\\\\500.png', './output_leaf/gradient/processed_3d\\\\501.png', './output_leaf/gradient/processed_3d\\\\502.png', './output_leaf/gradient/processed_3d\\\\503.png', './output_leaf/gradient/processed_3d\\\\504.png', './output_leaf/gradient/processed_3d\\\\505.png', './output_leaf/gradient/processed_3d\\\\506.png', './output_leaf/gradient/processed_3d\\\\507.png', './output_leaf/gradient/processed_3d\\\\508.png', './output_leaf/gradient/processed_3d\\\\509.png', './output_leaf/gradient/processed_3d\\\\510.png', './output_leaf/gradient/processed_3d\\\\511.png']\n"
     ]
    },
    {
     "name": "stdout",
     "output_type": "stream",
     "text": [
      "save stl model to ./leaf_architected.stl\n"
     ]
    }
   ],
   "source": [
    "#or stack in z into 3d stl model\n",
    "import vox2STL\n",
    "vox1=vox2STL.img2vox('./output_leaf/gradient/processed_3d/', 'png')\n",
    "\n",
    "vox2STL.vox2stl(vox1, filename='leaf_architected')"
   ]
  },
  {
   "cell_type": "markdown",
   "metadata": {},
   "source": [
    "## Style Mixing"
   ]
  },
  {
   "cell_type": "code",
   "execution_count": 25,
   "metadata": {},
   "outputs": [
    {
     "name": "stdout",
     "output_type": "stream",
     "text": [
      "Loading networks from \"./bone_leaf/network-snapshot-equalized-004120.pkl\"...\n",
      "Generating W vectors...\n",
      "Setting up PyTorch plugin \"bias_act_plugin\"... Done.\n",
      "Generating images...\n",
      "Setting up PyTorch plugin \"upfirdn2d_plugin\"... Done.\n",
      "Generating style-mixed images...\n",
      "Saving images...\n",
      "Saving image grid...\n"
     ]
    }
   ],
   "source": [
    "!python style_mixing.py --outdir=./bone_leaf/style_mixing --rows=206,358,817,87,139 --cols=206,358,817,87,139 --styles=6-11 --network=./bone_leaf/network-snapshot-equalized-004120.pkl\n",
    "#!python style_mixing.py --outdir=./bone_leaf/style_mixing --rows=64,72,103,111,540,738 --cols=64,72,111,103,540,738,87,139,206,358,787,817 --styles=0-5 --network=./bone_leaf/network-snapshot-bw-001240.pkl"
   ]
  },
  {
   "cell_type": "code",
   "execution_count": null,
   "metadata": {},
   "outputs": [],
   "source": []
  },
  {
   "cell_type": "code",
   "execution_count": null,
   "metadata": {},
   "outputs": [],
   "source": []
  },
  {
   "cell_type": "markdown",
   "metadata": {},
   "source": [
    "# Generate cirular/spiral"
   ]
  },
  {
   "cell_type": "code",
   "execution_count": null,
   "metadata": {},
   "outputs": [],
   "source": [
    " !python generate.py --outdir=./output_leaf/circularloop_spiral/ --trunc=.7 --process=\"interpolation\" --interpolation=\"circularloop_spiral\" --diameter=.1 --frames=10 --random_seed=90 --seeds=0,17,68 --numberrotations=50 --d_inc_rotation=.5 --network=./leaf-network-snapshot-000092.pkl"
   ]
  },
  {
   "cell_type": "code",
   "execution_count": null,
   "metadata": {},
   "outputs": [],
   "source": [
    "path = \"./output_leaf/circularloop_spiral/frames/\" \n",
    "dest=\"./output_leaf/circularloop_spiral/processed/\"\n",
    "remove_small (path, dest, 10000, 1024,mirrorcopy=1)"
   ]
  },
  {
   "cell_type": "markdown",
   "metadata": {},
   "source": [
    "# Translate image stacks to STL and other manipulations"
   ]
  },
  {
   "cell_type": "code",
   "execution_count": 15,
   "metadata": {},
   "outputs": [],
   "source": [
    "#Import Michael's tool to convert voxel to STL\n",
    "import vox2STL"
   ]
  },
  {
   "cell_type": "code",
   "execution_count": 17,
   "metadata": {},
   "outputs": [
    {
     "name": "stdout",
     "output_type": "stream",
     "text": [
      "found 16 images. ['./output_leaf/gradient/processed\\\\0000_smoothed.png', './output_leaf/gradient/processed\\\\0001_smoothed.png', './output_leaf/gradient/processed\\\\0002_smoothed.png', './output_leaf/gradient/processed\\\\0003_smoothed.png', './output_leaf/gradient/processed\\\\0004_smoothed.png', './output_leaf/gradient/processed\\\\0005_smoothed.png', './output_leaf/gradient/processed\\\\0006_smoothed.png', './output_leaf/gradient/processed\\\\0007_smoothed.png', './output_leaf/gradient/processed\\\\0008_smoothed.png', './output_leaf/gradient/processed\\\\0009_smoothed.png', './output_leaf/gradient/processed\\\\0010_smoothed.png', './output_leaf/gradient/processed\\\\0011_smoothed.png', './output_leaf/gradient/processed\\\\0012_smoothed.png', './output_leaf/gradient/processed\\\\0013_smoothed.png', './output_leaf/gradient/processed\\\\0014_smoothed.png', './output_leaf/gradient/processed\\\\0015_smoothed.png']\n",
      "save stl model to ./leaf_architected.stl\n"
     ]
    }
   ],
   "source": [
    "# first parameter: Folder with image stacks\n",
    "vox1=vox2STL.img2vox('./output_leaf/gradient/processed/', 'png')\n",
    "\n",
    "vox2STL.vox2stl(vox1, filename='leaf_architected')\n"
   ]
  },
  {
   "cell_type": "code",
   "execution_count": null,
   "metadata": {},
   "outputs": [],
   "source": [
    "# For multimaterial printing, generate inverse of first mesh\n",
    "\n",
    "vox40=vox2STL.inverse(vox1)  \n",
    "vox2STL.vox2stl(vox40, filename='leaf_architected_inverse')\n",
    " "
   ]
  },
  {
   "cell_type": "code",
   "execution_count": null,
   "metadata": {},
   "outputs": [],
   "source": [
    "# first parameter: Folder with image stacks\n",
    "vox10=vox2STL.img2vox('./output_leaf/temp3/processed_xstitc/', 'png')\n",
    "\n",
    "vox2STL.vox2stl(vox10, filename='leaf_architected_single')\n"
   ]
  },
  {
   "cell_type": "code",
   "execution_count": null,
   "metadata": {},
   "outputs": [],
   "source": [
    "# For multimaterial printing, generate inverse of first mesh\n",
    "\n",
    "vox40=vox2STL.inverse(vox10)  \n",
    "vox2STL.vox2stl(vox40, filename='leaf_architected_single_inverse')\n",
    " "
   ]
  },
  {
   "cell_type": "markdown",
   "metadata": {},
   "source": [
    "# Img2Architecture"
   ]
  },
  {
   "cell_type": "code",
   "execution_count": 2,
   "metadata": {},
   "outputs": [],
   "source": [
    "filename='curve.png'\n",
    "label='curve'\n",
    "\n",
    "csv_label=\"./img_to_architecture_\"+label+\".csv\"\n",
    "outdir_label=\"./output_leaf/img_to_architecture/\"+label+\"/\""
   ]
  },
  {
   "cell_type": "code",
   "execution_count": 3,
   "metadata": {},
   "outputs": [],
   "source": [
    "#Convert image into 16x16 binary array\n",
    "image_file = Image.open(filename)\n",
    "\n",
    "if len(np.asarray(image_file).shape)==2:\n",
    "    gray = image_file.resize((16,16))\n",
    "elif np.asarray(image_file).shape[2]==4:\n",
    "    image_file.load()\n",
    "    rgb = Image.new(\"RGB\", image_file.size, (255, 255, 255))\n",
    "    rgb.paste(image_file, mask = image_file.split()[3])\n",
    "    gray=rgb.convert(\"L\").resize((16,16))\n",
    "elif np.asarray(image_file).shape[2]==3:\n",
    "    gray = image_file.convert(\"L\").resize((16,16))\n",
    "elif np.asarray(image_file).shape[2]==1:\n",
    "    gray = image_file.resize((16,16))\n",
    "    \n",
    "gray = gray.transpose(Image.FLIP_LEFT_RIGHT)\n",
    "threshold = np.asarray(gray).mean()\n",
    "bw = gray.point(lambda p: p > threshold and 255)  \n",
    "bw.save(\"bw.png\", format=\"png\")\n",
    "pixels_bw = np.asarray(bw)"
   ]
  },
  {
   "cell_type": "code",
   "execution_count": 4,
   "metadata": {},
   "outputs": [],
   "source": [
    "#Use gaussian blur to ensure smooth interpolation\n",
    "gaussian = bw.filter(ImageFilter.GaussianBlur(1))\n",
    "np.asarray(gaussian)\n",
    "gaussian.save(\"gaussian.png\", format=\"png\")\n",
    "#gaussian.show()\n",
    "\n",
    "normalized = ImageTools.NormalizeData(np.asarray(gaussian))"
   ]
  },
  {
   "cell_type": "code",
   "execution_count": 5,
   "metadata": {},
   "outputs": [],
   "source": [
    "#Create csv file with points for image generation\n",
    "csv_points=np.stack((normalized.reshape((256,)), np.zeros(256)), axis=1)\n",
    "pd.DataFrame(csv_points).to_csv(csv_label, header=['x','y'], index=False)"
   ]
  },
  {
   "cell_type": "code",
   "execution_count": null,
   "metadata": {},
   "outputs": [],
   "source": [
    "#generate images\n",
    "!python generate.py --outdir=./output_leaf/img_to_architecture/curve/ --trunc=.7 --frames=1 --random_seed=0 --process=\"interpolation\" --interpolation=\"2Dpoint_CSV\" --csvfile=./img_to_architecture_curve.csv --seeds=441,863,68   --network=leaf-network-snapshot.pkl \n",
    "\n",
    "#process into unit cells\n",
    "path = \"output_leaf/img_to_architecture/\"+label+\"/frames/\" \n",
    "dest=\"output_leaf/img_to_architecture/\"+label+\"/processed/\"\n",
    "\n",
    "names, seeds, density=ImageTools.remove_small(path, dest, 30000, 1024,mirrorcopy=1, ressfinal=256, filt1=32, thicken=0, rect=0)\n",
    "\n",
    "#stack\n",
    "path=\"./output_leaf/img_to_architecture/\"+label+\"/processed/\"\n",
    "dest=\"./output_leaf/img_to_architecture/\"+label+\"/stack/\"\n",
    "stack_xy(path2 = path, dest=dest, ress=96, ressfinal=4096, thicken=2, rect=0, destfile=None)"
   ]
  },
  {
   "cell_type": "markdown",
   "metadata": {
    "id": "futaO6lBroVH"
   },
   "source": [
    "# other example operations"
   ]
  },
  {
   "cell_type": "code",
   "execution_count": null,
   "metadata": {},
   "outputs": [],
   "source": [
    "vox3=vox2STL.union(vox1, vox10)\n",
    "vox2STL.vox2stl(vox3, filename='union')\n",
    "\n",
    "vox3=vox2STL.xor(vox1, vox10)\n",
    "vox2STL.vox2stl(vox3, filename='xor')\n",
    "\n",
    "vox3=vox2STL.substraction(vox1, vox10)\n",
    "vox2STL.vox2stl(vox3, filename='sub')\n",
    "\n",
    "vox3=vox2STL.intersection(vox1, vox10)  \n",
    "vox2STL.vox2stl(vox3, filename='inter')\n",
    "\n"
   ]
  },
  {
   "cell_type": "code",
   "execution_count": null,
   "metadata": {},
   "outputs": [],
   "source": [
    "#repeat mesh \n",
    "# repeat in z, y, x\n",
    "vox3=vox2STL.repeat(vox10, [1, 2, 2])  \n",
    "\n",
    "print (\"Done with repeat...\")\n",
    "fname='repeat'\n",
    "\n",
    "vox2STL.vox2stl(vox3, filename='repeat')\n"
   ]
  },
  {
   "cell_type": "code",
   "execution_count": null,
   "metadata": {},
   "outputs": [],
   "source": []
  },
  {
   "cell_type": "code",
   "execution_count": null,
   "metadata": {},
   "outputs": [],
   "source": []
  }
 ],
 "metadata": {
  "accelerator": "GPU",
  "colab": {
   "include_colab_link": true,
   "machine_shape": "hm",
   "name": "SG2-ADA-PyTorch.ipynb",
   "private_outputs": true,
   "provenance": []
  },
  "kernelspec": {
   "display_name": "Python 3 (ipykernel)",
   "language": "python",
   "name": "python3"
  },
  "language_info": {
   "codemirror_mode": {
    "name": "ipython",
    "version": 3
   },
   "file_extension": ".py",
   "mimetype": "text/x-python",
   "name": "python",
   "nbconvert_exporter": "python",
   "pygments_lexer": "ipython3",
   "version": "3.7.0"
  }
 },
 "nbformat": 4,
 "nbformat_minor": 1
}
